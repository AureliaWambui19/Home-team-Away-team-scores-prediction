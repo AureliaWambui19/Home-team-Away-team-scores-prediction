{
  "nbformat": 4,
  "nbformat_minor": 0,
  "metadata": {
    "colab": {
      "name": "wambui aurelia core week 6 assignment",
      "provenance": [],
      "collapsed_sections": [],
      "include_colab_link": true
    },
    "kernelspec": {
      "name": "python3",
      "display_name": "Python 3"
    }
  },
  "cells": [
    {
      "cell_type": "markdown",
      "metadata": {
        "id": "view-in-github",
        "colab_type": "text"
      },
      "source": [
        "<a href=\"https://colab.research.google.com/github/AureliaWambui19/Home-team-Away-team-scores-prediction/blob/main/wambui_aurelia_core_week_6_assignment.ipynb\" target=\"_parent\"><img src=\"https://colab.research.google.com/assets/colab-badge.svg\" alt=\"Open In Colab\"/></a>"
      ]
    },
    {
      "cell_type": "markdown",
      "metadata": {
        "id": "e3Se4tiPVPg8"
      },
      "source": [
        "# 1.1 Introduction\n",
        " * Football is a family of team sports that involve, to varying degrees, kicking a ball to score a goal.\n",
        "\n",
        " * The men's FIFA World Ranking is a ranking system for men's national teams in association football.    \n",
        " * Currently led by Belgium\n",
        " \n",
        " * A points system is used, with points being awarded based on the results of all FIFA-recognised full international matches.\n",
        " \n",
        " "
      ]
    },
    {
      "cell_type": "markdown",
      "metadata": {
        "id": "6jLcnEGyPmsq"
      },
      "source": [
        "## 1.1 Defining the Question\n",
        "\n",
        "*  I have been recruited as a football analyst in a company - Mchezopesa Ltd and tasked to accomplish the task below :\n",
        "\n",
        "* Predict the result of a game between team 1 and team 2, based on who's home and who's away, and on whether or not the game is friendly (including rank of the respective team)."
      ]
    },
    {
      "cell_type": "markdown",
      "metadata": {
        "id": "0KRU2WCnPmpx"
      },
      "source": [
        "## 1.2 Metrics for Success\n",
        " \n",
        "    * Obtaining about 80% Accuracy score and above\n",
        "    * Correctly identifying status of results(win,loss,draw)\n",
        "    \n",
        "    "
      ]
    },
    {
      "cell_type": "markdown",
      "metadata": {
        "id": "T27Fr4V4Pmi7"
      },
      "source": [
        "## 1.3 The Context\n",
        "\n",
        "The new model for calculating the FIFA/Coca-Cola World Ranking (FWR) was developed over two years\n",
        "during which time a large number of different algorithms was tested and extensively discussed.\n",
        "Throughout this review and consultation process, the main aim was to identify an algorithm that is not\n",
        "only intuitive, easy to understand and improves overall accuracy of the formula, but also addresses\n",
        "feedback received about the previous model and provides fair and equal opportunities for all teams\n",
        "across all confederations to ascend the FWR\n",
        "\n",
        "The Elo method of calculation adds/subtracts points (as opposed to averaging points) for individual\n",
        "matches to/from a team’s existing point total. The points which are added or subtracted are partially\n",
        "determined by the relative strength of the two opponents, including the logical expectation that teams\n",
        "higher in the ranking should fare better against teams lower in the ranking.\n",
        "\n",
        "\n"
      ]
    },
    {
      "cell_type": "markdown",
      "metadata": {
        "id": "1P7ENPLrPmfT"
      },
      "source": [
        "## 1.4 Experimental design taken\n",
        "\n",
        "- Perform your EDA\n",
        "- Perform any necessary feature engineering\n",
        "- Check of multicollinearity\n",
        "- Building a model\n",
        "    * Approach 1: Polynomial regression model\n",
        "    \n",
        "        * Model 1: Predict how many goals the home team scores\n",
        "        * Model 2: Predict how many goals the away team scores\n",
        "\n",
        "    * Approach 2: Logistic regression model\n",
        "    \n",
        "         * Figure out from the home team’s perspective if the game is a Win, Lose or Draw (W, L, D)\n",
        "    \n",
        "- Cross-validate the model\n",
        "- Compute RMSE\n",
        "- Create residual plots for the model\n",
        "- Assess Heteroscedasticity using Bartlett’s test\n"
      ]
    },
    {
      "cell_type": "markdown",
      "metadata": {
        "id": "ZvJ6FlIRUrZ7"
      },
      "source": [
        "## 1.5 Appropriateness of the available Data\n",
        "\n",
        "This project has  two datasets:\n",
        "\n",
        "* Ranking dataset: contains the team ranks from 1993 to 2018\n",
        "\n",
        "* Results dataset: contains matches and the team scores since 1892 to 2019\n",
        "\n",
        "The link to the dataset is:\n",
        "\n",
        "* https://drive.google.com/open?id=1BYUqaEEnFtAe5lvzJh9lpVpR2MAvERUc\n",
        "\n",
        " The data is relevant for this project\n"
      ]
    },
    {
      "cell_type": "markdown",
      "metadata": {
        "id": "bJNEdPrKVGsm"
      },
      "source": [
        "# 2 Data Understanding"
      ]
    },
    {
      "cell_type": "code",
      "metadata": {
        "id": "_RgEG9oSAfMb"
      },
      "source": [
        "# Importing Libraries we use for our analysis\n",
        "\n",
        "import pandas as pd\n",
        "import numpy as np\n",
        "import scipy as sp\n",
        "import seaborn as sns\n",
        "import matplotlib.pyplot as plt\n",
        "%matplotlib inline\n",
        "from sklearn.metrics import accuracy_score\n",
        "from sklearn.linear_model import LinearRegression, LogisticRegression\n",
        "from sklearn import metrics\n",
        "from sklearn.model_selection import KFold, LeaveOneOut\n",
        "from sklearn.model_selection import train_test_split\n",
        "from sklearn.preprocessing import LabelEncoder\n",
        "from sklearn.preprocessing import PolynomialFeatures\n",
        "from sklearn.preprocessing import StandardScaler\n",
        "\n",
        "\n"
      ],
      "execution_count": 11,
      "outputs": []
    },
    {
      "cell_type": "markdown",
      "metadata": {
        "id": "EG14C7aYV8Xa"
      },
      "source": [
        "# 2.1 Viewing our Datasets"
      ]
    },
    {
      "cell_type": "code",
      "metadata": {
        "id": "bRfLIuVMBimz"
      },
      "source": [
        "# Reading the datasets\n",
        "FifaRank = pd.read_csv('fifa_ranking.csv')\n",
        "FifaResult = pd.read_csv('results.csv')"
      ],
      "execution_count": 12,
      "outputs": []
    },
    {
      "cell_type": "code",
      "metadata": {
        "id": "roHou8vIBijx",
        "outputId": "f3da3e77-300e-47e6-e30d-8bf9345fce27",
        "colab": {
          "base_uri": "https://localhost:8080/",
          "height": 213
        }
      },
      "source": [
        "# Viewing the top 3 observation in the fifa ranking dataset\n",
        "FifaRank.head(3)"
      ],
      "execution_count": 13,
      "outputs": [
        {
          "output_type": "execute_result",
          "data": {
            "text/html": [
              "<div>\n",
              "<style scoped>\n",
              "    .dataframe tbody tr th:only-of-type {\n",
              "        vertical-align: middle;\n",
              "    }\n",
              "\n",
              "    .dataframe tbody tr th {\n",
              "        vertical-align: top;\n",
              "    }\n",
              "\n",
              "    .dataframe thead th {\n",
              "        text-align: right;\n",
              "    }\n",
              "</style>\n",
              "<table border=\"1\" class=\"dataframe\">\n",
              "  <thead>\n",
              "    <tr style=\"text-align: right;\">\n",
              "      <th></th>\n",
              "      <th>rank</th>\n",
              "      <th>country_full</th>\n",
              "      <th>country_abrv</th>\n",
              "      <th>total_points</th>\n",
              "      <th>previous_points</th>\n",
              "      <th>rank_change</th>\n",
              "      <th>cur_year_avg</th>\n",
              "      <th>cur_year_avg_weighted</th>\n",
              "      <th>last_year_avg</th>\n",
              "      <th>last_year_avg_weighted</th>\n",
              "      <th>two_year_ago_avg</th>\n",
              "      <th>two_year_ago_weighted</th>\n",
              "      <th>three_year_ago_avg</th>\n",
              "      <th>three_year_ago_weighted</th>\n",
              "      <th>confederation</th>\n",
              "      <th>rank_date</th>\n",
              "    </tr>\n",
              "  </thead>\n",
              "  <tbody>\n",
              "    <tr>\n",
              "      <th>0</th>\n",
              "      <td>1</td>\n",
              "      <td>Germany</td>\n",
              "      <td>GER</td>\n",
              "      <td>0.0</td>\n",
              "      <td>57</td>\n",
              "      <td>0</td>\n",
              "      <td>0.0</td>\n",
              "      <td>0.0</td>\n",
              "      <td>0.0</td>\n",
              "      <td>0.0</td>\n",
              "      <td>0.0</td>\n",
              "      <td>0.0</td>\n",
              "      <td>0.0</td>\n",
              "      <td>0.0</td>\n",
              "      <td>UEFA</td>\n",
              "      <td>1993-08-08</td>\n",
              "    </tr>\n",
              "    <tr>\n",
              "      <th>1</th>\n",
              "      <td>2</td>\n",
              "      <td>Italy</td>\n",
              "      <td>ITA</td>\n",
              "      <td>0.0</td>\n",
              "      <td>57</td>\n",
              "      <td>0</td>\n",
              "      <td>0.0</td>\n",
              "      <td>0.0</td>\n",
              "      <td>0.0</td>\n",
              "      <td>0.0</td>\n",
              "      <td>0.0</td>\n",
              "      <td>0.0</td>\n",
              "      <td>0.0</td>\n",
              "      <td>0.0</td>\n",
              "      <td>UEFA</td>\n",
              "      <td>1993-08-08</td>\n",
              "    </tr>\n",
              "    <tr>\n",
              "      <th>2</th>\n",
              "      <td>3</td>\n",
              "      <td>Switzerland</td>\n",
              "      <td>SUI</td>\n",
              "      <td>0.0</td>\n",
              "      <td>50</td>\n",
              "      <td>9</td>\n",
              "      <td>0.0</td>\n",
              "      <td>0.0</td>\n",
              "      <td>0.0</td>\n",
              "      <td>0.0</td>\n",
              "      <td>0.0</td>\n",
              "      <td>0.0</td>\n",
              "      <td>0.0</td>\n",
              "      <td>0.0</td>\n",
              "      <td>UEFA</td>\n",
              "      <td>1993-08-08</td>\n",
              "    </tr>\n",
              "  </tbody>\n",
              "</table>\n",
              "</div>"
            ],
            "text/plain": [
              "   rank country_full  ... confederation   rank_date\n",
              "0     1      Germany  ...          UEFA  1993-08-08\n",
              "1     2        Italy  ...          UEFA  1993-08-08\n",
              "2     3  Switzerland  ...          UEFA  1993-08-08\n",
              "\n",
              "[3 rows x 16 columns]"
            ]
          },
          "metadata": {
            "tags": []
          },
          "execution_count": 13
        }
      ]
    },
    {
      "cell_type": "code",
      "metadata": {
        "id": "_SbcOGbOePsN",
        "outputId": "8c13c3cd-bdef-4619-89d5-c9295419c056",
        "colab": {
          "base_uri": "https://localhost:8080/",
          "height": 213
        }
      },
      "source": [
        "# Viewing the last 3 observation in the fifa ranking dataset\n",
        "FifaRank.tail(3)"
      ],
      "execution_count": 14,
      "outputs": [
        {
          "output_type": "execute_result",
          "data": {
            "text/html": [
              "<div>\n",
              "<style scoped>\n",
              "    .dataframe tbody tr th:only-of-type {\n",
              "        vertical-align: middle;\n",
              "    }\n",
              "\n",
              "    .dataframe tbody tr th {\n",
              "        vertical-align: top;\n",
              "    }\n",
              "\n",
              "    .dataframe thead th {\n",
              "        text-align: right;\n",
              "    }\n",
              "</style>\n",
              "<table border=\"1\" class=\"dataframe\">\n",
              "  <thead>\n",
              "    <tr style=\"text-align: right;\">\n",
              "      <th></th>\n",
              "      <th>rank</th>\n",
              "      <th>country_full</th>\n",
              "      <th>country_abrv</th>\n",
              "      <th>total_points</th>\n",
              "      <th>previous_points</th>\n",
              "      <th>rank_change</th>\n",
              "      <th>cur_year_avg</th>\n",
              "      <th>cur_year_avg_weighted</th>\n",
              "      <th>last_year_avg</th>\n",
              "      <th>last_year_avg_weighted</th>\n",
              "      <th>two_year_ago_avg</th>\n",
              "      <th>two_year_ago_weighted</th>\n",
              "      <th>three_year_ago_avg</th>\n",
              "      <th>three_year_ago_weighted</th>\n",
              "      <th>confederation</th>\n",
              "      <th>rank_date</th>\n",
              "    </tr>\n",
              "  </thead>\n",
              "  <tbody>\n",
              "    <tr>\n",
              "      <th>57790</th>\n",
              "      <td>206</td>\n",
              "      <td>Eritrea</td>\n",
              "      <td>ERI</td>\n",
              "      <td>0.0</td>\n",
              "      <td>0</td>\n",
              "      <td>1</td>\n",
              "      <td>0.0</td>\n",
              "      <td>0.0</td>\n",
              "      <td>0.0</td>\n",
              "      <td>0.0</td>\n",
              "      <td>0.0</td>\n",
              "      <td>0.0</td>\n",
              "      <td>0.0</td>\n",
              "      <td>0.0</td>\n",
              "      <td>CAF</td>\n",
              "      <td>2018-06-07</td>\n",
              "    </tr>\n",
              "    <tr>\n",
              "      <th>57791</th>\n",
              "      <td>206</td>\n",
              "      <td>Somalia</td>\n",
              "      <td>SOM</td>\n",
              "      <td>0.0</td>\n",
              "      <td>0</td>\n",
              "      <td>1</td>\n",
              "      <td>0.0</td>\n",
              "      <td>0.0</td>\n",
              "      <td>0.0</td>\n",
              "      <td>0.0</td>\n",
              "      <td>0.0</td>\n",
              "      <td>0.0</td>\n",
              "      <td>0.0</td>\n",
              "      <td>0.0</td>\n",
              "      <td>CAF</td>\n",
              "      <td>2018-06-07</td>\n",
              "    </tr>\n",
              "    <tr>\n",
              "      <th>57792</th>\n",
              "      <td>206</td>\n",
              "      <td>Tonga</td>\n",
              "      <td>TGA</td>\n",
              "      <td>0.0</td>\n",
              "      <td>0</td>\n",
              "      <td>1</td>\n",
              "      <td>0.0</td>\n",
              "      <td>0.0</td>\n",
              "      <td>0.0</td>\n",
              "      <td>0.0</td>\n",
              "      <td>0.0</td>\n",
              "      <td>0.0</td>\n",
              "      <td>0.0</td>\n",
              "      <td>0.0</td>\n",
              "      <td>OFC</td>\n",
              "      <td>2018-06-07</td>\n",
              "    </tr>\n",
              "  </tbody>\n",
              "</table>\n",
              "</div>"
            ],
            "text/plain": [
              "       rank country_full  ... confederation   rank_date\n",
              "57790   206      Eritrea  ...           CAF  2018-06-07\n",
              "57791   206      Somalia  ...           CAF  2018-06-07\n",
              "57792   206        Tonga  ...           OFC  2018-06-07\n",
              "\n",
              "[3 rows x 16 columns]"
            ]
          },
          "metadata": {
            "tags": []
          },
          "execution_count": 14
        }
      ]
    },
    {
      "cell_type": "code",
      "metadata": {
        "id": "p7ksjP4KBihG",
        "outputId": "43fb282d-1b21-4533-e3cf-00a50310713d",
        "colab": {
          "base_uri": "https://localhost:8080/",
          "height": 193
        }
      },
      "source": [
        "# Viewing the last 3 observation in the result dataset\n",
        "FifaResult.tail(3)"
      ],
      "execution_count": 15,
      "outputs": [
        {
          "output_type": "execute_result",
          "data": {
            "text/html": [
              "<div>\n",
              "<style scoped>\n",
              "    .dataframe tbody tr th:only-of-type {\n",
              "        vertical-align: middle;\n",
              "    }\n",
              "\n",
              "    .dataframe tbody tr th {\n",
              "        vertical-align: top;\n",
              "    }\n",
              "\n",
              "    .dataframe thead th {\n",
              "        text-align: right;\n",
              "    }\n",
              "</style>\n",
              "<table border=\"1\" class=\"dataframe\">\n",
              "  <thead>\n",
              "    <tr style=\"text-align: right;\">\n",
              "      <th></th>\n",
              "      <th>date</th>\n",
              "      <th>home_team</th>\n",
              "      <th>away_team</th>\n",
              "      <th>home_score</th>\n",
              "      <th>away_score</th>\n",
              "      <th>tournament</th>\n",
              "      <th>city</th>\n",
              "      <th>country</th>\n",
              "      <th>neutral</th>\n",
              "    </tr>\n",
              "  </thead>\n",
              "  <tbody>\n",
              "    <tr>\n",
              "      <th>40836</th>\n",
              "      <td>2019-07-19</td>\n",
              "      <td>Senegal</td>\n",
              "      <td>Algeria</td>\n",
              "      <td>0</td>\n",
              "      <td>1</td>\n",
              "      <td>African Cup of Nations</td>\n",
              "      <td>Cairo</td>\n",
              "      <td>Egypt</td>\n",
              "      <td>True</td>\n",
              "    </tr>\n",
              "    <tr>\n",
              "      <th>40837</th>\n",
              "      <td>2019-07-19</td>\n",
              "      <td>Tajikistan</td>\n",
              "      <td>North Korea</td>\n",
              "      <td>0</td>\n",
              "      <td>1</td>\n",
              "      <td>Intercontinental Cup</td>\n",
              "      <td>Ahmedabad</td>\n",
              "      <td>India</td>\n",
              "      <td>True</td>\n",
              "    </tr>\n",
              "    <tr>\n",
              "      <th>40838</th>\n",
              "      <td>2019-07-20</td>\n",
              "      <td>Papua New Guinea</td>\n",
              "      <td>Fiji</td>\n",
              "      <td>1</td>\n",
              "      <td>1</td>\n",
              "      <td>Pacific Games</td>\n",
              "      <td>Apia</td>\n",
              "      <td>Samoa</td>\n",
              "      <td>True</td>\n",
              "    </tr>\n",
              "  </tbody>\n",
              "</table>\n",
              "</div>"
            ],
            "text/plain": [
              "             date         home_team    away_team  ...       city  country neutral\n",
              "40836  2019-07-19           Senegal      Algeria  ...      Cairo    Egypt    True\n",
              "40837  2019-07-19        Tajikistan  North Korea  ...  Ahmedabad    India    True\n",
              "40838  2019-07-20  Papua New Guinea         Fiji  ...       Apia    Samoa    True\n",
              "\n",
              "[3 rows x 9 columns]"
            ]
          },
          "metadata": {
            "tags": []
          },
          "execution_count": 15
        }
      ]
    },
    {
      "cell_type": "markdown",
      "metadata": {
        "id": "eHs-LjqYLUEw"
      },
      "source": [
        "# 2.2 Checking data"
      ]
    },
    {
      "cell_type": "code",
      "metadata": {
        "id": "EjVy7zUOBid9",
        "outputId": "53f72a3d-5305-4156-f0ed-b28e179a33e7",
        "colab": {
          "base_uri": "https://localhost:8080/"
        }
      },
      "source": [
        "# Checking the size of the fifa ranking dataset\n",
        "FifaRank.shape"
      ],
      "execution_count": 16,
      "outputs": [
        {
          "output_type": "execute_result",
          "data": {
            "text/plain": [
              "(57793, 16)"
            ]
          },
          "metadata": {
            "tags": []
          },
          "execution_count": 16
        }
      ]
    },
    {
      "cell_type": "markdown",
      "metadata": {
        "id": "jxb9PlRrcdXJ"
      },
      "source": [
        "This  dataset has 57993 rows and 16 columns"
      ]
    },
    {
      "cell_type": "code",
      "metadata": {
        "id": "irnDPocPBicE",
        "outputId": "695200fa-3451-4fb6-9e9c-2662a290a6be",
        "colab": {
          "base_uri": "https://localhost:8080/"
        }
      },
      "source": [
        "# checking the size of the results dataset\n",
        "FifaResult.shape"
      ],
      "execution_count": 17,
      "outputs": [
        {
          "output_type": "execute_result",
          "data": {
            "text/plain": [
              "(40839, 9)"
            ]
          },
          "metadata": {
            "tags": []
          },
          "execution_count": 17
        }
      ]
    },
    {
      "cell_type": "markdown",
      "metadata": {
        "id": "ZWrYLfYEcmLo"
      },
      "source": [
        "This dataset has 40839 rows and 9 columns"
      ]
    },
    {
      "cell_type": "code",
      "metadata": {
        "id": "0cXsZFMaBkk_",
        "outputId": "89a3082e-a5e8-409f-befa-9b15cb3567c3",
        "colab": {
          "base_uri": "https://localhost:8080/"
        }
      },
      "source": [
        "# Checking the ranking dataset information\n",
        "\n",
        "FifaRank.info()"
      ],
      "execution_count": 18,
      "outputs": [
        {
          "output_type": "stream",
          "text": [
            "<class 'pandas.core.frame.DataFrame'>\n",
            "RangeIndex: 57793 entries, 0 to 57792\n",
            "Data columns (total 16 columns):\n",
            " #   Column                   Non-Null Count  Dtype  \n",
            "---  ------                   --------------  -----  \n",
            " 0   rank                     57793 non-null  int64  \n",
            " 1   country_full             57793 non-null  object \n",
            " 2   country_abrv             57793 non-null  object \n",
            " 3   total_points             57793 non-null  float64\n",
            " 4   previous_points          57793 non-null  int64  \n",
            " 5   rank_change              57793 non-null  int64  \n",
            " 6   cur_year_avg             57793 non-null  float64\n",
            " 7   cur_year_avg_weighted    57793 non-null  float64\n",
            " 8   last_year_avg            57793 non-null  float64\n",
            " 9   last_year_avg_weighted   57793 non-null  float64\n",
            " 10  two_year_ago_avg         57793 non-null  float64\n",
            " 11  two_year_ago_weighted    57793 non-null  float64\n",
            " 12  three_year_ago_avg       57793 non-null  float64\n",
            " 13  three_year_ago_weighted  57793 non-null  float64\n",
            " 14  confederation            57793 non-null  object \n",
            " 15  rank_date                57793 non-null  object \n",
            "dtypes: float64(9), int64(3), object(4)\n",
            "memory usage: 7.1+ MB\n"
          ],
          "name": "stdout"
        }
      ]
    },
    {
      "cell_type": "code",
      "metadata": {
        "id": "fIOCLdxSBkh5",
        "outputId": "cb3b02d9-1799-4b1b-b7f9-4b58471cefc3",
        "colab": {
          "base_uri": "https://localhost:8080/"
        }
      },
      "source": [
        "# Checking the result dataset information\n",
        "\n",
        "FifaResult.info()"
      ],
      "execution_count": 19,
      "outputs": [
        {
          "output_type": "stream",
          "text": [
            "<class 'pandas.core.frame.DataFrame'>\n",
            "RangeIndex: 40839 entries, 0 to 40838\n",
            "Data columns (total 9 columns):\n",
            " #   Column      Non-Null Count  Dtype \n",
            "---  ------      --------------  ----- \n",
            " 0   date        40839 non-null  object\n",
            " 1   home_team   40839 non-null  object\n",
            " 2   away_team   40839 non-null  object\n",
            " 3   home_score  40839 non-null  int64 \n",
            " 4   away_score  40839 non-null  int64 \n",
            " 5   tournament  40839 non-null  object\n",
            " 6   city        40839 non-null  object\n",
            " 7   country     40839 non-null  object\n",
            " 8   neutral     40839 non-null  bool  \n",
            "dtypes: bool(1), int64(2), object(6)\n",
            "memory usage: 2.5+ MB\n"
          ],
          "name": "stdout"
        }
      ]
    },
    {
      "cell_type": "code",
      "metadata": {
        "id": "ScaKqyfdBkge",
        "outputId": "0c682cdb-f21c-4b15-9f2b-0b8d99e8bf0c",
        "colab": {
          "base_uri": "https://localhost:8080/"
        }
      },
      "source": [
        "# Viewing the column names of the ranking dataset\n",
        "\n",
        "FifaRank.columns"
      ],
      "execution_count": 20,
      "outputs": [
        {
          "output_type": "execute_result",
          "data": {
            "text/plain": [
              "Index(['rank', 'country_full', 'country_abrv', 'total_points',\n",
              "       'previous_points', 'rank_change', 'cur_year_avg',\n",
              "       'cur_year_avg_weighted', 'last_year_avg', 'last_year_avg_weighted',\n",
              "       'two_year_ago_avg', 'two_year_ago_weighted', 'three_year_ago_avg',\n",
              "       'three_year_ago_weighted', 'confederation', 'rank_date'],\n",
              "      dtype='object')"
            ]
          },
          "metadata": {
            "tags": []
          },
          "execution_count": 20
        }
      ]
    },
    {
      "cell_type": "code",
      "metadata": {
        "id": "XOK5BVWjBbKW",
        "outputId": "9d6ada7a-f81d-4953-d807-63a39065f0b2",
        "colab": {
          "base_uri": "https://localhost:8080/"
        }
      },
      "source": [
        "# Viewing the column names of the result dataset\n",
        "\n",
        "FifaResult.columns"
      ],
      "execution_count": 21,
      "outputs": [
        {
          "output_type": "execute_result",
          "data": {
            "text/plain": [
              "Index(['date', 'home_team', 'away_team', 'home_score', 'away_score',\n",
              "       'tournament', 'city', 'country', 'neutral'],\n",
              "      dtype='object')"
            ]
          },
          "metadata": {
            "tags": []
          },
          "execution_count": 21
        }
      ]
    },
    {
      "cell_type": "markdown",
      "metadata": {
        "id": "z4F90dHq_ISM"
      },
      "source": [
        "# 3 Feature Engineering"
      ]
    },
    {
      "cell_type": "code",
      "metadata": {
        "id": "nKJySHSzaRIZ",
        "outputId": "548d2060-00e2-4aed-db93-a6ff49e3f0ea",
        "colab": {
          "base_uri": "https://localhost:8080/",
          "height": 313
        }
      },
      "source": [
        "# finding the difference of scores and storing them in a new column called game_result\n",
        "FifaResult['game_results'] = FifaResult['home_score'] -FifaResult['away_score']\n",
        "FifaResult.head(4)"
      ],
      "execution_count": 22,
      "outputs": [
        {
          "output_type": "execute_result",
          "data": {
            "text/html": [
              "<div>\n",
              "<style scoped>\n",
              "    .dataframe tbody tr th:only-of-type {\n",
              "        vertical-align: middle;\n",
              "    }\n",
              "\n",
              "    .dataframe tbody tr th {\n",
              "        vertical-align: top;\n",
              "    }\n",
              "\n",
              "    .dataframe thead th {\n",
              "        text-align: right;\n",
              "    }\n",
              "</style>\n",
              "<table border=\"1\" class=\"dataframe\">\n",
              "  <thead>\n",
              "    <tr style=\"text-align: right;\">\n",
              "      <th></th>\n",
              "      <th>date</th>\n",
              "      <th>home_team</th>\n",
              "      <th>away_team</th>\n",
              "      <th>home_score</th>\n",
              "      <th>away_score</th>\n",
              "      <th>tournament</th>\n",
              "      <th>city</th>\n",
              "      <th>country</th>\n",
              "      <th>neutral</th>\n",
              "      <th>game_results</th>\n",
              "    </tr>\n",
              "  </thead>\n",
              "  <tbody>\n",
              "    <tr>\n",
              "      <th>0</th>\n",
              "      <td>1872-11-30</td>\n",
              "      <td>Scotland</td>\n",
              "      <td>England</td>\n",
              "      <td>0</td>\n",
              "      <td>0</td>\n",
              "      <td>Friendly</td>\n",
              "      <td>Glasgow</td>\n",
              "      <td>Scotland</td>\n",
              "      <td>False</td>\n",
              "      <td>0</td>\n",
              "    </tr>\n",
              "    <tr>\n",
              "      <th>1</th>\n",
              "      <td>1873-03-08</td>\n",
              "      <td>England</td>\n",
              "      <td>Scotland</td>\n",
              "      <td>4</td>\n",
              "      <td>2</td>\n",
              "      <td>Friendly</td>\n",
              "      <td>London</td>\n",
              "      <td>England</td>\n",
              "      <td>False</td>\n",
              "      <td>2</td>\n",
              "    </tr>\n",
              "    <tr>\n",
              "      <th>2</th>\n",
              "      <td>1874-03-07</td>\n",
              "      <td>Scotland</td>\n",
              "      <td>England</td>\n",
              "      <td>2</td>\n",
              "      <td>1</td>\n",
              "      <td>Friendly</td>\n",
              "      <td>Glasgow</td>\n",
              "      <td>Scotland</td>\n",
              "      <td>False</td>\n",
              "      <td>1</td>\n",
              "    </tr>\n",
              "    <tr>\n",
              "      <th>3</th>\n",
              "      <td>1875-03-06</td>\n",
              "      <td>England</td>\n",
              "      <td>Scotland</td>\n",
              "      <td>2</td>\n",
              "      <td>2</td>\n",
              "      <td>Friendly</td>\n",
              "      <td>London</td>\n",
              "      <td>England</td>\n",
              "      <td>False</td>\n",
              "      <td>0</td>\n",
              "    </tr>\n",
              "  </tbody>\n",
              "</table>\n",
              "</div>"
            ],
            "text/plain": [
              "         date home_team away_team  ...   country  neutral game_results\n",
              "0  1872-11-30  Scotland   England  ...  Scotland    False            0\n",
              "1  1873-03-08   England  Scotland  ...   England    False            2\n",
              "2  1874-03-07  Scotland   England  ...  Scotland    False            1\n",
              "3  1875-03-06   England  Scotland  ...   England    False            0\n",
              "\n",
              "[4 rows x 10 columns]"
            ]
          },
          "metadata": {
            "tags": []
          },
          "execution_count": 22
        }
      ]
    },
    {
      "cell_type": "code",
      "metadata": {
        "id": "PGmEbcfomffN"
      },
      "source": [
        "# Creating a function to specify whether its a win , loss or a draw based on a home team perspective\n",
        "# the results (its a win , loss or a draw ) are stored in a new column called status\n",
        "      \n",
        "def home_team(game_results):\n",
        "    if game_results > 0:\n",
        "        return 'win'\n",
        "    elif game_results < 0:\n",
        "        return 'loss'\n",
        "    else:\n",
        "        return 'draw'\n",
        "      \n",
        "FifaResult['status'] = FifaResult.game_results.apply(lambda w: home_team(w))\n",
        "\n",
        "\n",
        "\n"
      ],
      "execution_count": 23,
      "outputs": []
    },
    {
      "cell_type": "code",
      "metadata": {
        "id": "ZYRxyIoYp5PS",
        "outputId": "280121fa-de45-4db2-d9e1-dffeb2c94827",
        "colab": {
          "base_uri": "https://localhost:8080/",
          "height": 182
        }
      },
      "source": [
        "FifaResult.head(2)"
      ],
      "execution_count": 24,
      "outputs": [
        {
          "output_type": "execute_result",
          "data": {
            "text/html": [
              "<div>\n",
              "<style scoped>\n",
              "    .dataframe tbody tr th:only-of-type {\n",
              "        vertical-align: middle;\n",
              "    }\n",
              "\n",
              "    .dataframe tbody tr th {\n",
              "        vertical-align: top;\n",
              "    }\n",
              "\n",
              "    .dataframe thead th {\n",
              "        text-align: right;\n",
              "    }\n",
              "</style>\n",
              "<table border=\"1\" class=\"dataframe\">\n",
              "  <thead>\n",
              "    <tr style=\"text-align: right;\">\n",
              "      <th></th>\n",
              "      <th>date</th>\n",
              "      <th>home_team</th>\n",
              "      <th>away_team</th>\n",
              "      <th>home_score</th>\n",
              "      <th>away_score</th>\n",
              "      <th>tournament</th>\n",
              "      <th>city</th>\n",
              "      <th>country</th>\n",
              "      <th>neutral</th>\n",
              "      <th>game_results</th>\n",
              "      <th>status</th>\n",
              "    </tr>\n",
              "  </thead>\n",
              "  <tbody>\n",
              "    <tr>\n",
              "      <th>0</th>\n",
              "      <td>1872-11-30</td>\n",
              "      <td>Scotland</td>\n",
              "      <td>England</td>\n",
              "      <td>0</td>\n",
              "      <td>0</td>\n",
              "      <td>Friendly</td>\n",
              "      <td>Glasgow</td>\n",
              "      <td>Scotland</td>\n",
              "      <td>False</td>\n",
              "      <td>0</td>\n",
              "      <td>draw</td>\n",
              "    </tr>\n",
              "    <tr>\n",
              "      <th>1</th>\n",
              "      <td>1873-03-08</td>\n",
              "      <td>England</td>\n",
              "      <td>Scotland</td>\n",
              "      <td>4</td>\n",
              "      <td>2</td>\n",
              "      <td>Friendly</td>\n",
              "      <td>London</td>\n",
              "      <td>England</td>\n",
              "      <td>False</td>\n",
              "      <td>2</td>\n",
              "      <td>win</td>\n",
              "    </tr>\n",
              "  </tbody>\n",
              "</table>\n",
              "</div>"
            ],
            "text/plain": [
              "         date home_team away_team  ...  neutral  game_results status\n",
              "0  1872-11-30  Scotland   England  ...    False             0   draw\n",
              "1  1873-03-08   England  Scotland  ...    False             2    win\n",
              "\n",
              "[2 rows x 11 columns]"
            ]
          },
          "metadata": {
            "tags": []
          },
          "execution_count": 24
        }
      ]
    },
    {
      "cell_type": "code",
      "metadata": {
        "id": "maMIAfRPmfVr",
        "outputId": "507fad6d-7818-48f1-9910-f40409ce80df",
        "colab": {
          "base_uri": "https://localhost:8080/"
        }
      },
      "source": [
        "# finding unique values in tournament column \n",
        "\n",
        "FifaResult.tournament.unique()\n"
      ],
      "execution_count": 25,
      "outputs": [
        {
          "output_type": "execute_result",
          "data": {
            "text/plain": [
              "array(['Friendly', 'British Championship', 'Copa Lipton', 'Copa Newton',\n",
              "       'Copa Premio Honor Argentino', 'Copa Premio Honor Uruguayo',\n",
              "       'Copa Roca', 'Copa América', 'Copa Chevallier Boutell',\n",
              "       'Nordic Championship', 'International Cup', 'Baltic Cup',\n",
              "       'Balkan Cup', 'FIFA World Cup', 'Copa Rio Branco',\n",
              "       'FIFA World Cup qualification', 'CCCF Championship',\n",
              "       'NAFU Championship', 'Copa Oswaldo Cruz',\n",
              "       'Pan American Championship', 'Copa del Pacífico',\n",
              "       \"Copa Bernardo O'Higgins\", 'AFC Asian Cup qualification',\n",
              "       'Atlantic Cup', 'AFC Asian Cup', 'African Cup of Nations',\n",
              "       'Copa Paz del Chaco', 'Merdeka Tournament',\n",
              "       'UEFA Euro qualification', 'UEFA Euro',\n",
              "       'Windward Islands Tournament',\n",
              "       'African Cup of Nations qualification', 'Vietnam Independence Cup',\n",
              "       'Copa Carlos Dittborn', 'CONCACAF Championship',\n",
              "       'Copa Juan Pinto Durán', 'UAFA Cup', 'South Pacific Games',\n",
              "       'CONCACAF Championship qualification', 'Copa Artigas', 'GaNEFo',\n",
              "       \"King's Cup\", 'Gulf Cup', 'Indonesia Tournament', 'Korea Cup',\n",
              "       'Brazil Independence Cup', 'Copa Ramón Castilla',\n",
              "       'Oceania Nations Cup', 'CECAFA Cup', 'Copa Félix Bogado',\n",
              "       'Kirin Cup', 'CFU Caribbean Cup qualification',\n",
              "       'CFU Caribbean Cup', 'Amílcar Cabral Cup', 'Mundialito',\n",
              "       'West African Cup', 'Nehru Cup', 'Merlion Cup', 'UDEAC Cup',\n",
              "       'Rous Cup', 'Lunar New Year Cup', 'Tournoi de France',\n",
              "       'Malta International Tournament', 'Island Games', 'Dynasty Cup',\n",
              "       'UNCAF Cup', 'Gold Cup', 'USA Cup',\n",
              "       'Jordan International Tournament', 'Confederations Cup',\n",
              "       'United Arab Emirates Friendship Tournament',\n",
              "       'Oceania Nations Cup qualification', 'Simba Tournament',\n",
              "       'SAFF Cup', 'AFF Championship', 'King Hassan II Tournament',\n",
              "       'Cyprus International Tournament', 'Dunhill Cup', 'COSAFA Cup',\n",
              "       'Gold Cup qualification', 'SKN Football Festival', 'UNIFFAC Cup',\n",
              "       'WAFF Championship', 'Millennium Cup', \"Prime Minister's Cup\",\n",
              "       'EAFF Championship', 'AFC Challenge Cup', 'FIFI Wild Cup',\n",
              "       'ELF Cup', 'Viva World Cup', 'UAFA Cup qualification',\n",
              "       'AFC Challenge Cup qualification', 'African Nations Championship',\n",
              "       'VFF Cup', 'Dragon Cup', 'ABCS Tournament',\n",
              "       'Nile Basin Tournament', 'Nations Cup', 'Pacific Games', 'OSN Cup',\n",
              "       'CONIFA World Football Cup', 'CONIFA European Football Cup',\n",
              "       'Copa América qualification', 'World Unity Cup',\n",
              "       'Intercontinental Cup', 'AFF Championship qualification',\n",
              "       'UEFA Nations League', 'Atlantic Heritage Cup',\n",
              "       'Inter Games Football Tournament'], dtype=object)"
            ]
          },
          "metadata": {
            "tags": []
          },
          "execution_count": 25
        }
      ]
    },
    {
      "cell_type": "code",
      "metadata": {
        "id": "aqDI76PPeTbo"
      },
      "source": [
        "# Changing the tournament type into three categories \n",
        "# Tournament type (World cup, Friendly, Other)   \n",
        "# The 3 respective category will be stored in a new column named tournament_type\n",
        "def ton(tournament_type):\n",
        "    if tournament_type == 'Friendly':\n",
        "        return 'Friendly'\n",
        "    elif tournament_type == 'FIFA World Cup':\n",
        "        return 'World cup'\n",
        "    else:\n",
        "        return 'Other'\n",
        "  \n",
        "FifaResult['tournament_type'] = FifaResult.tournament.apply(lambda t: ton(t))\n"
      ],
      "execution_count": 26,
      "outputs": []
    },
    {
      "cell_type": "code",
      "metadata": {
        "id": "PG1AqXSJrqjF",
        "outputId": "3d824e73-d4fa-4c87-8d64-59fb3e1d7054",
        "colab": {
          "base_uri": "https://localhost:8080/",
          "height": 182
        }
      },
      "source": [
        "FifaResult.head(2)"
      ],
      "execution_count": 27,
      "outputs": [
        {
          "output_type": "execute_result",
          "data": {
            "text/html": [
              "<div>\n",
              "<style scoped>\n",
              "    .dataframe tbody tr th:only-of-type {\n",
              "        vertical-align: middle;\n",
              "    }\n",
              "\n",
              "    .dataframe tbody tr th {\n",
              "        vertical-align: top;\n",
              "    }\n",
              "\n",
              "    .dataframe thead th {\n",
              "        text-align: right;\n",
              "    }\n",
              "</style>\n",
              "<table border=\"1\" class=\"dataframe\">\n",
              "  <thead>\n",
              "    <tr style=\"text-align: right;\">\n",
              "      <th></th>\n",
              "      <th>date</th>\n",
              "      <th>home_team</th>\n",
              "      <th>away_team</th>\n",
              "      <th>home_score</th>\n",
              "      <th>away_score</th>\n",
              "      <th>tournament</th>\n",
              "      <th>city</th>\n",
              "      <th>country</th>\n",
              "      <th>neutral</th>\n",
              "      <th>game_results</th>\n",
              "      <th>status</th>\n",
              "      <th>tournament_type</th>\n",
              "    </tr>\n",
              "  </thead>\n",
              "  <tbody>\n",
              "    <tr>\n",
              "      <th>0</th>\n",
              "      <td>1872-11-30</td>\n",
              "      <td>Scotland</td>\n",
              "      <td>England</td>\n",
              "      <td>0</td>\n",
              "      <td>0</td>\n",
              "      <td>Friendly</td>\n",
              "      <td>Glasgow</td>\n",
              "      <td>Scotland</td>\n",
              "      <td>False</td>\n",
              "      <td>0</td>\n",
              "      <td>draw</td>\n",
              "      <td>Friendly</td>\n",
              "    </tr>\n",
              "    <tr>\n",
              "      <th>1</th>\n",
              "      <td>1873-03-08</td>\n",
              "      <td>England</td>\n",
              "      <td>Scotland</td>\n",
              "      <td>4</td>\n",
              "      <td>2</td>\n",
              "      <td>Friendly</td>\n",
              "      <td>London</td>\n",
              "      <td>England</td>\n",
              "      <td>False</td>\n",
              "      <td>2</td>\n",
              "      <td>win</td>\n",
              "      <td>Friendly</td>\n",
              "    </tr>\n",
              "  </tbody>\n",
              "</table>\n",
              "</div>"
            ],
            "text/plain": [
              "         date home_team away_team  ...  game_results  status tournament_type\n",
              "0  1872-11-30  Scotland   England  ...             0    draw        Friendly\n",
              "1  1873-03-08   England  Scotland  ...             2     win        Friendly\n",
              "\n",
              "[2 rows x 12 columns]"
            ]
          },
          "metadata": {
            "tags": []
          },
          "execution_count": 27
        }
      ]
    },
    {
      "cell_type": "code",
      "metadata": {
        "id": "bndZPcrU2H_j"
      },
      "source": [
        "# Changing the dates column in both datasets into datetime format\n",
        "\n",
        "FifaResult['date'] = pd.to_datetime(FifaResult['date'])\n",
        "FifaRank['rank_date'] = pd.to_datetime(FifaRank['rank_date'])"
      ],
      "execution_count": 28,
      "outputs": []
    },
    {
      "cell_type": "code",
      "metadata": {
        "id": "R-qz8Wezhl01",
        "outputId": "34e4ba04-02ef-433a-9326-2e5993d31990",
        "colab": {
          "base_uri": "https://localhost:8080/"
        }
      },
      "source": [
        "# Confirming that we have changed the date columns into datetime datatypes\n",
        "\n",
        "print(FifaRank.rank_date.dtypes)\n",
        "print(' ')\n",
        "print(FifaResult.date.dtypes)"
      ],
      "execution_count": 29,
      "outputs": [
        {
          "output_type": "stream",
          "text": [
            "datetime64[ns]\n",
            " \n",
            "datetime64[ns]\n"
          ],
          "name": "stdout"
        }
      ]
    },
    {
      "cell_type": "code",
      "metadata": {
        "id": "jN5tk1uYjKOR"
      },
      "source": [
        "# Extracting the year and month from the date column; \n",
        "# Here we will create a new column for each\n",
        "FifaResult['year'] = pd.DatetimeIndex(FifaResult['date']).year\n",
        "FifaResult['month'] = pd.DatetimeIndex(FifaResult['date']).month\n",
        "\n",
        "FifaRank['year'] = FifaRank['rank_date'].dt.year\n",
        "FifaRank['month'] =FifaRank['rank_date'].dt.month"
      ],
      "execution_count": 30,
      "outputs": []
    },
    {
      "cell_type": "code",
      "metadata": {
        "id": "YOmyvK3AjKL0",
        "outputId": "643c2a8c-db94-41fb-ba5e-fa16a5987110",
        "colab": {
          "base_uri": "https://localhost:8080/",
          "height": 247
        }
      },
      "source": [
        "# confirming the changes\n",
        "FifaResult.head(3)"
      ],
      "execution_count": 31,
      "outputs": [
        {
          "output_type": "execute_result",
          "data": {
            "text/html": [
              "<div>\n",
              "<style scoped>\n",
              "    .dataframe tbody tr th:only-of-type {\n",
              "        vertical-align: middle;\n",
              "    }\n",
              "\n",
              "    .dataframe tbody tr th {\n",
              "        vertical-align: top;\n",
              "    }\n",
              "\n",
              "    .dataframe thead th {\n",
              "        text-align: right;\n",
              "    }\n",
              "</style>\n",
              "<table border=\"1\" class=\"dataframe\">\n",
              "  <thead>\n",
              "    <tr style=\"text-align: right;\">\n",
              "      <th></th>\n",
              "      <th>date</th>\n",
              "      <th>home_team</th>\n",
              "      <th>away_team</th>\n",
              "      <th>home_score</th>\n",
              "      <th>away_score</th>\n",
              "      <th>tournament</th>\n",
              "      <th>city</th>\n",
              "      <th>country</th>\n",
              "      <th>neutral</th>\n",
              "      <th>game_results</th>\n",
              "      <th>status</th>\n",
              "      <th>tournament_type</th>\n",
              "      <th>year</th>\n",
              "      <th>month</th>\n",
              "    </tr>\n",
              "  </thead>\n",
              "  <tbody>\n",
              "    <tr>\n",
              "      <th>0</th>\n",
              "      <td>1872-11-30</td>\n",
              "      <td>Scotland</td>\n",
              "      <td>England</td>\n",
              "      <td>0</td>\n",
              "      <td>0</td>\n",
              "      <td>Friendly</td>\n",
              "      <td>Glasgow</td>\n",
              "      <td>Scotland</td>\n",
              "      <td>False</td>\n",
              "      <td>0</td>\n",
              "      <td>draw</td>\n",
              "      <td>Friendly</td>\n",
              "      <td>1872</td>\n",
              "      <td>11</td>\n",
              "    </tr>\n",
              "    <tr>\n",
              "      <th>1</th>\n",
              "      <td>1873-03-08</td>\n",
              "      <td>England</td>\n",
              "      <td>Scotland</td>\n",
              "      <td>4</td>\n",
              "      <td>2</td>\n",
              "      <td>Friendly</td>\n",
              "      <td>London</td>\n",
              "      <td>England</td>\n",
              "      <td>False</td>\n",
              "      <td>2</td>\n",
              "      <td>win</td>\n",
              "      <td>Friendly</td>\n",
              "      <td>1873</td>\n",
              "      <td>3</td>\n",
              "    </tr>\n",
              "    <tr>\n",
              "      <th>2</th>\n",
              "      <td>1874-03-07</td>\n",
              "      <td>Scotland</td>\n",
              "      <td>England</td>\n",
              "      <td>2</td>\n",
              "      <td>1</td>\n",
              "      <td>Friendly</td>\n",
              "      <td>Glasgow</td>\n",
              "      <td>Scotland</td>\n",
              "      <td>False</td>\n",
              "      <td>1</td>\n",
              "      <td>win</td>\n",
              "      <td>Friendly</td>\n",
              "      <td>1874</td>\n",
              "      <td>3</td>\n",
              "    </tr>\n",
              "  </tbody>\n",
              "</table>\n",
              "</div>"
            ],
            "text/plain": [
              "        date home_team away_team  ...  tournament_type  year month\n",
              "0 1872-11-30  Scotland   England  ...         Friendly  1872    11\n",
              "1 1873-03-08   England  Scotland  ...         Friendly  1873     3\n",
              "2 1874-03-07  Scotland   England  ...         Friendly  1874     3\n",
              "\n",
              "[3 rows x 14 columns]"
            ]
          },
          "metadata": {
            "tags": []
          },
          "execution_count": 31
        }
      ]
    },
    {
      "cell_type": "code",
      "metadata": {
        "id": "dqaHKZEejKJI",
        "outputId": "c45fa5bb-0852-4d42-949d-8f98fad825a2",
        "colab": {
          "base_uri": "https://localhost:8080/",
          "height": 165
        }
      },
      "source": [
        "# confirming changes\n",
        "\n",
        "FifaRank.head(2)"
      ],
      "execution_count": 33,
      "outputs": [
        {
          "output_type": "execute_result",
          "data": {
            "text/html": [
              "<div>\n",
              "<style scoped>\n",
              "    .dataframe tbody tr th:only-of-type {\n",
              "        vertical-align: middle;\n",
              "    }\n",
              "\n",
              "    .dataframe tbody tr th {\n",
              "        vertical-align: top;\n",
              "    }\n",
              "\n",
              "    .dataframe thead th {\n",
              "        text-align: right;\n",
              "    }\n",
              "</style>\n",
              "<table border=\"1\" class=\"dataframe\">\n",
              "  <thead>\n",
              "    <tr style=\"text-align: right;\">\n",
              "      <th></th>\n",
              "      <th>rank</th>\n",
              "      <th>country_full</th>\n",
              "      <th>country_abrv</th>\n",
              "      <th>total_points</th>\n",
              "      <th>previous_points</th>\n",
              "      <th>rank_change</th>\n",
              "      <th>cur_year_avg</th>\n",
              "      <th>cur_year_avg_weighted</th>\n",
              "      <th>last_year_avg</th>\n",
              "      <th>last_year_avg_weighted</th>\n",
              "      <th>two_year_ago_avg</th>\n",
              "      <th>two_year_ago_weighted</th>\n",
              "      <th>three_year_ago_avg</th>\n",
              "      <th>three_year_ago_weighted</th>\n",
              "      <th>confederation</th>\n",
              "      <th>rank_date</th>\n",
              "      <th>year</th>\n",
              "      <th>month</th>\n",
              "    </tr>\n",
              "  </thead>\n",
              "  <tbody>\n",
              "    <tr>\n",
              "      <th>0</th>\n",
              "      <td>1</td>\n",
              "      <td>Germany</td>\n",
              "      <td>GER</td>\n",
              "      <td>0.0</td>\n",
              "      <td>57</td>\n",
              "      <td>0</td>\n",
              "      <td>0.0</td>\n",
              "      <td>0.0</td>\n",
              "      <td>0.0</td>\n",
              "      <td>0.0</td>\n",
              "      <td>0.0</td>\n",
              "      <td>0.0</td>\n",
              "      <td>0.0</td>\n",
              "      <td>0.0</td>\n",
              "      <td>UEFA</td>\n",
              "      <td>1993-08-08</td>\n",
              "      <td>1993</td>\n",
              "      <td>8</td>\n",
              "    </tr>\n",
              "    <tr>\n",
              "      <th>1</th>\n",
              "      <td>2</td>\n",
              "      <td>Italy</td>\n",
              "      <td>ITA</td>\n",
              "      <td>0.0</td>\n",
              "      <td>57</td>\n",
              "      <td>0</td>\n",
              "      <td>0.0</td>\n",
              "      <td>0.0</td>\n",
              "      <td>0.0</td>\n",
              "      <td>0.0</td>\n",
              "      <td>0.0</td>\n",
              "      <td>0.0</td>\n",
              "      <td>0.0</td>\n",
              "      <td>0.0</td>\n",
              "      <td>UEFA</td>\n",
              "      <td>1993-08-08</td>\n",
              "      <td>1993</td>\n",
              "      <td>8</td>\n",
              "    </tr>\n",
              "  </tbody>\n",
              "</table>\n",
              "</div>"
            ],
            "text/plain": [
              "   rank country_full country_abrv  ...  rank_date  year  month\n",
              "0     1      Germany          GER  ... 1993-08-08  1993      8\n",
              "1     2        Italy          ITA  ... 1993-08-08  1993      8\n",
              "\n",
              "[2 rows x 18 columns]"
            ]
          },
          "metadata": {
            "tags": []
          },
          "execution_count": 33
        }
      ]
    },
    {
      "cell_type": "code",
      "metadata": {
        "id": "dzz1cf8k8IdT"
      },
      "source": [
        "# changing the full country column name in ranking dataset to home_team so as to ease manipulation of the datasets when merging them later\n",
        "\n",
        "FifaRank= FifaRank.rename({'country_full': 'home_team'}, axis = 1)"
      ],
      "execution_count": 34,
      "outputs": []
    },
    {
      "cell_type": "code",
      "metadata": {
        "id": "ffnz1oyx8IaZ",
        "outputId": "96b74a39-3cd8-4d57-c3ea-14d9cdbf33bc",
        "colab": {
          "base_uri": "https://localhost:8080/",
          "height": 165
        }
      },
      "source": [
        "# confirming changes\n",
        "\n",
        "FifaRank.head(2)"
      ],
      "execution_count": 35,
      "outputs": [
        {
          "output_type": "execute_result",
          "data": {
            "text/html": [
              "<div>\n",
              "<style scoped>\n",
              "    .dataframe tbody tr th:only-of-type {\n",
              "        vertical-align: middle;\n",
              "    }\n",
              "\n",
              "    .dataframe tbody tr th {\n",
              "        vertical-align: top;\n",
              "    }\n",
              "\n",
              "    .dataframe thead th {\n",
              "        text-align: right;\n",
              "    }\n",
              "</style>\n",
              "<table border=\"1\" class=\"dataframe\">\n",
              "  <thead>\n",
              "    <tr style=\"text-align: right;\">\n",
              "      <th></th>\n",
              "      <th>rank</th>\n",
              "      <th>home_team</th>\n",
              "      <th>country_abrv</th>\n",
              "      <th>total_points</th>\n",
              "      <th>previous_points</th>\n",
              "      <th>rank_change</th>\n",
              "      <th>cur_year_avg</th>\n",
              "      <th>cur_year_avg_weighted</th>\n",
              "      <th>last_year_avg</th>\n",
              "      <th>last_year_avg_weighted</th>\n",
              "      <th>two_year_ago_avg</th>\n",
              "      <th>two_year_ago_weighted</th>\n",
              "      <th>three_year_ago_avg</th>\n",
              "      <th>three_year_ago_weighted</th>\n",
              "      <th>confederation</th>\n",
              "      <th>rank_date</th>\n",
              "      <th>year</th>\n",
              "      <th>month</th>\n",
              "    </tr>\n",
              "  </thead>\n",
              "  <tbody>\n",
              "    <tr>\n",
              "      <th>0</th>\n",
              "      <td>1</td>\n",
              "      <td>Germany</td>\n",
              "      <td>GER</td>\n",
              "      <td>0.0</td>\n",
              "      <td>57</td>\n",
              "      <td>0</td>\n",
              "      <td>0.0</td>\n",
              "      <td>0.0</td>\n",
              "      <td>0.0</td>\n",
              "      <td>0.0</td>\n",
              "      <td>0.0</td>\n",
              "      <td>0.0</td>\n",
              "      <td>0.0</td>\n",
              "      <td>0.0</td>\n",
              "      <td>UEFA</td>\n",
              "      <td>1993-08-08</td>\n",
              "      <td>1993</td>\n",
              "      <td>8</td>\n",
              "    </tr>\n",
              "    <tr>\n",
              "      <th>1</th>\n",
              "      <td>2</td>\n",
              "      <td>Italy</td>\n",
              "      <td>ITA</td>\n",
              "      <td>0.0</td>\n",
              "      <td>57</td>\n",
              "      <td>0</td>\n",
              "      <td>0.0</td>\n",
              "      <td>0.0</td>\n",
              "      <td>0.0</td>\n",
              "      <td>0.0</td>\n",
              "      <td>0.0</td>\n",
              "      <td>0.0</td>\n",
              "      <td>0.0</td>\n",
              "      <td>0.0</td>\n",
              "      <td>UEFA</td>\n",
              "      <td>1993-08-08</td>\n",
              "      <td>1993</td>\n",
              "      <td>8</td>\n",
              "    </tr>\n",
              "  </tbody>\n",
              "</table>\n",
              "</div>"
            ],
            "text/plain": [
              "   rank home_team country_abrv  ...  rank_date  year  month\n",
              "0     1   Germany          GER  ... 1993-08-08  1993      8\n",
              "1     2     Italy          ITA  ... 1993-08-08  1993      8\n",
              "\n",
              "[2 rows x 18 columns]"
            ]
          },
          "metadata": {
            "tags": []
          },
          "execution_count": 35
        }
      ]
    },
    {
      "cell_type": "code",
      "metadata": {
        "id": "UC7r3XpA9rdI"
      },
      "source": [
        "# Dropping unnecessary columns in result dataset\n",
        "\n",
        "FifaResult.drop(['date', 'game_results'], axis = 1, inplace = True)"
      ],
      "execution_count": 37,
      "outputs": []
    },
    {
      "cell_type": "code",
      "metadata": {
        "id": "Libno3OMtGEz",
        "outputId": "9890cd2b-860e-4fdb-b100-e18f8be2a25d",
        "colab": {
          "base_uri": "https://localhost:8080/"
        }
      },
      "source": [
        "FifaResult.columns"
      ],
      "execution_count": 38,
      "outputs": [
        {
          "output_type": "execute_result",
          "data": {
            "text/plain": [
              "Index(['home_team', 'away_team', 'home_score', 'away_score', 'tournament',\n",
              "       'city', 'country', 'neutral', 'status', 'tournament_type', 'year',\n",
              "       'month'],\n",
              "      dtype='object')"
            ]
          },
          "metadata": {
            "tags": []
          },
          "execution_count": 38
        }
      ]
    },
    {
      "cell_type": "code",
      "metadata": {
        "id": "y_BPjVDa9rYP"
      },
      "source": [
        "\n",
        " # Dropping unnecessary columns in rank dataset\n",
        "\n",
        "FifaRank.drop(['country_abrv','rank_date', 'total_points', 'previous_points','cur_year_avg', 'cur_year_avg_weighted' ,'last_year_avg' , 'last_year_avg_weighted' , 'two_year_ago_avg', 'two_year_ago_weighted', 'three_year_ago_avg' ,'three_year_ago_weighted', 'confederation'], axis =1, inplace = True)"
      ],
      "execution_count": 39,
      "outputs": []
    },
    {
      "cell_type": "code",
      "metadata": {
        "id": "Zecu1i2ZL_lq"
      },
      "source": [
        "# Merging datasets\n",
        "\n",
        "# Based on home_team, year, month\n",
        "\n",
        "home_me= pd.merge(FifaResult,FifaRank, how=\"left\", on = ['home_team', 'year', 'month'])\n"
      ],
      "execution_count": 40,
      "outputs": []
    },
    {
      "cell_type": "code",
      "metadata": {
        "id": "mNiN2aepAbXw",
        "outputId": "1bab2509-4552-4f09-f292-9d9871a38441",
        "colab": {
          "base_uri": "https://localhost:8080/",
          "height": 191
        }
      },
      "source": [
        "# viewing our merged dataset 4 top observations\n",
        "home_me.head(4)"
      ],
      "execution_count": 41,
      "outputs": [
        {
          "output_type": "execute_result",
          "data": {
            "text/html": [
              "<div>\n",
              "<style scoped>\n",
              "    .dataframe tbody tr th:only-of-type {\n",
              "        vertical-align: middle;\n",
              "    }\n",
              "\n",
              "    .dataframe tbody tr th {\n",
              "        vertical-align: top;\n",
              "    }\n",
              "\n",
              "    .dataframe thead th {\n",
              "        text-align: right;\n",
              "    }\n",
              "</style>\n",
              "<table border=\"1\" class=\"dataframe\">\n",
              "  <thead>\n",
              "    <tr style=\"text-align: right;\">\n",
              "      <th></th>\n",
              "      <th>home_team</th>\n",
              "      <th>away_team</th>\n",
              "      <th>home_score</th>\n",
              "      <th>away_score</th>\n",
              "      <th>tournament</th>\n",
              "      <th>city</th>\n",
              "      <th>country</th>\n",
              "      <th>neutral</th>\n",
              "      <th>status</th>\n",
              "      <th>tournament_type</th>\n",
              "      <th>year</th>\n",
              "      <th>month</th>\n",
              "      <th>rank</th>\n",
              "      <th>rank_change</th>\n",
              "    </tr>\n",
              "  </thead>\n",
              "  <tbody>\n",
              "    <tr>\n",
              "      <th>0</th>\n",
              "      <td>Scotland</td>\n",
              "      <td>England</td>\n",
              "      <td>0</td>\n",
              "      <td>0</td>\n",
              "      <td>Friendly</td>\n",
              "      <td>Glasgow</td>\n",
              "      <td>Scotland</td>\n",
              "      <td>False</td>\n",
              "      <td>draw</td>\n",
              "      <td>Friendly</td>\n",
              "      <td>1872</td>\n",
              "      <td>11</td>\n",
              "      <td>NaN</td>\n",
              "      <td>NaN</td>\n",
              "    </tr>\n",
              "    <tr>\n",
              "      <th>1</th>\n",
              "      <td>England</td>\n",
              "      <td>Scotland</td>\n",
              "      <td>4</td>\n",
              "      <td>2</td>\n",
              "      <td>Friendly</td>\n",
              "      <td>London</td>\n",
              "      <td>England</td>\n",
              "      <td>False</td>\n",
              "      <td>win</td>\n",
              "      <td>Friendly</td>\n",
              "      <td>1873</td>\n",
              "      <td>3</td>\n",
              "      <td>NaN</td>\n",
              "      <td>NaN</td>\n",
              "    </tr>\n",
              "    <tr>\n",
              "      <th>2</th>\n",
              "      <td>Scotland</td>\n",
              "      <td>England</td>\n",
              "      <td>2</td>\n",
              "      <td>1</td>\n",
              "      <td>Friendly</td>\n",
              "      <td>Glasgow</td>\n",
              "      <td>Scotland</td>\n",
              "      <td>False</td>\n",
              "      <td>win</td>\n",
              "      <td>Friendly</td>\n",
              "      <td>1874</td>\n",
              "      <td>3</td>\n",
              "      <td>NaN</td>\n",
              "      <td>NaN</td>\n",
              "    </tr>\n",
              "    <tr>\n",
              "      <th>3</th>\n",
              "      <td>England</td>\n",
              "      <td>Scotland</td>\n",
              "      <td>2</td>\n",
              "      <td>2</td>\n",
              "      <td>Friendly</td>\n",
              "      <td>London</td>\n",
              "      <td>England</td>\n",
              "      <td>False</td>\n",
              "      <td>draw</td>\n",
              "      <td>Friendly</td>\n",
              "      <td>1875</td>\n",
              "      <td>3</td>\n",
              "      <td>NaN</td>\n",
              "      <td>NaN</td>\n",
              "    </tr>\n",
              "  </tbody>\n",
              "</table>\n",
              "</div>"
            ],
            "text/plain": [
              "  home_team away_team  home_score  away_score  ...  year month rank  rank_change\n",
              "0  Scotland   England           0           0  ...  1872    11  NaN          NaN\n",
              "1   England  Scotland           4           2  ...  1873     3  NaN          NaN\n",
              "2  Scotland   England           2           1  ...  1874     3  NaN          NaN\n",
              "3   England  Scotland           2           2  ...  1875     3  NaN          NaN\n",
              "\n",
              "[4 rows x 14 columns]"
            ]
          },
          "metadata": {
            "tags": []
          },
          "execution_count": 41
        }
      ]
    },
    {
      "cell_type": "code",
      "metadata": {
        "id": "JM7XIpkdIfii",
        "outputId": "0fa2a0c4-9947-4279-e9ab-2bc16d3a9325",
        "colab": {
          "base_uri": "https://localhost:8080/",
          "height": 213
        }
      },
      "source": [
        "# viewing our merged dataset lastb 3 observations\n",
        "home_me.tail(3)"
      ],
      "execution_count": 42,
      "outputs": [
        {
          "output_type": "execute_result",
          "data": {
            "text/html": [
              "<div>\n",
              "<style scoped>\n",
              "    .dataframe tbody tr th:only-of-type {\n",
              "        vertical-align: middle;\n",
              "    }\n",
              "\n",
              "    .dataframe tbody tr th {\n",
              "        vertical-align: top;\n",
              "    }\n",
              "\n",
              "    .dataframe thead th {\n",
              "        text-align: right;\n",
              "    }\n",
              "</style>\n",
              "<table border=\"1\" class=\"dataframe\">\n",
              "  <thead>\n",
              "    <tr style=\"text-align: right;\">\n",
              "      <th></th>\n",
              "      <th>home_team</th>\n",
              "      <th>away_team</th>\n",
              "      <th>home_score</th>\n",
              "      <th>away_score</th>\n",
              "      <th>tournament</th>\n",
              "      <th>city</th>\n",
              "      <th>country</th>\n",
              "      <th>neutral</th>\n",
              "      <th>status</th>\n",
              "      <th>tournament_type</th>\n",
              "      <th>year</th>\n",
              "      <th>month</th>\n",
              "      <th>rank</th>\n",
              "      <th>rank_change</th>\n",
              "    </tr>\n",
              "  </thead>\n",
              "  <tbody>\n",
              "    <tr>\n",
              "      <th>40905</th>\n",
              "      <td>Senegal</td>\n",
              "      <td>Algeria</td>\n",
              "      <td>0</td>\n",
              "      <td>1</td>\n",
              "      <td>African Cup of Nations</td>\n",
              "      <td>Cairo</td>\n",
              "      <td>Egypt</td>\n",
              "      <td>True</td>\n",
              "      <td>loss</td>\n",
              "      <td>Other</td>\n",
              "      <td>2019</td>\n",
              "      <td>7</td>\n",
              "      <td>NaN</td>\n",
              "      <td>NaN</td>\n",
              "    </tr>\n",
              "    <tr>\n",
              "      <th>40906</th>\n",
              "      <td>Tajikistan</td>\n",
              "      <td>North Korea</td>\n",
              "      <td>0</td>\n",
              "      <td>1</td>\n",
              "      <td>Intercontinental Cup</td>\n",
              "      <td>Ahmedabad</td>\n",
              "      <td>India</td>\n",
              "      <td>True</td>\n",
              "      <td>loss</td>\n",
              "      <td>Other</td>\n",
              "      <td>2019</td>\n",
              "      <td>7</td>\n",
              "      <td>NaN</td>\n",
              "      <td>NaN</td>\n",
              "    </tr>\n",
              "    <tr>\n",
              "      <th>40907</th>\n",
              "      <td>Papua New Guinea</td>\n",
              "      <td>Fiji</td>\n",
              "      <td>1</td>\n",
              "      <td>1</td>\n",
              "      <td>Pacific Games</td>\n",
              "      <td>Apia</td>\n",
              "      <td>Samoa</td>\n",
              "      <td>True</td>\n",
              "      <td>draw</td>\n",
              "      <td>Other</td>\n",
              "      <td>2019</td>\n",
              "      <td>7</td>\n",
              "      <td>NaN</td>\n",
              "      <td>NaN</td>\n",
              "    </tr>\n",
              "  </tbody>\n",
              "</table>\n",
              "</div>"
            ],
            "text/plain": [
              "              home_team    away_team  home_score  ...  month rank rank_change\n",
              "40905           Senegal      Algeria           0  ...      7  NaN         NaN\n",
              "40906        Tajikistan  North Korea           0  ...      7  NaN         NaN\n",
              "40907  Papua New Guinea         Fiji           1  ...      7  NaN         NaN\n",
              "\n",
              "[3 rows x 14 columns]"
            ]
          },
          "metadata": {
            "tags": []
          },
          "execution_count": 42
        }
      ]
    },
    {
      "cell_type": "code",
      "metadata": {
        "id": "AHQfPlLpm4_A"
      },
      "source": [
        "# renaming the rank column name to home_rank so as to get the respective  rank of the home team\n",
        "\n",
        "home_me = home_me.rename({'rank': 'home_rank'}, axis = 1)"
      ],
      "execution_count": 43,
      "outputs": []
    },
    {
      "cell_type": "code",
      "metadata": {
        "id": "SWRW6q17nH9b",
        "outputId": "c02e3afa-3c13-44bb-ed9a-c1f89416d32c",
        "colab": {
          "base_uri": "https://localhost:8080/",
          "height": 130
        }
      },
      "source": [
        "# Confirming changes\n",
        "\n",
        "home_me.head(2)"
      ],
      "execution_count": 44,
      "outputs": [
        {
          "output_type": "execute_result",
          "data": {
            "text/html": [
              "<div>\n",
              "<style scoped>\n",
              "    .dataframe tbody tr th:only-of-type {\n",
              "        vertical-align: middle;\n",
              "    }\n",
              "\n",
              "    .dataframe tbody tr th {\n",
              "        vertical-align: top;\n",
              "    }\n",
              "\n",
              "    .dataframe thead th {\n",
              "        text-align: right;\n",
              "    }\n",
              "</style>\n",
              "<table border=\"1\" class=\"dataframe\">\n",
              "  <thead>\n",
              "    <tr style=\"text-align: right;\">\n",
              "      <th></th>\n",
              "      <th>home_team</th>\n",
              "      <th>away_team</th>\n",
              "      <th>home_score</th>\n",
              "      <th>away_score</th>\n",
              "      <th>tournament</th>\n",
              "      <th>city</th>\n",
              "      <th>country</th>\n",
              "      <th>neutral</th>\n",
              "      <th>status</th>\n",
              "      <th>tournament_type</th>\n",
              "      <th>year</th>\n",
              "      <th>month</th>\n",
              "      <th>home_rank</th>\n",
              "      <th>rank_change</th>\n",
              "    </tr>\n",
              "  </thead>\n",
              "  <tbody>\n",
              "    <tr>\n",
              "      <th>0</th>\n",
              "      <td>Scotland</td>\n",
              "      <td>England</td>\n",
              "      <td>0</td>\n",
              "      <td>0</td>\n",
              "      <td>Friendly</td>\n",
              "      <td>Glasgow</td>\n",
              "      <td>Scotland</td>\n",
              "      <td>False</td>\n",
              "      <td>draw</td>\n",
              "      <td>Friendly</td>\n",
              "      <td>1872</td>\n",
              "      <td>11</td>\n",
              "      <td>NaN</td>\n",
              "      <td>NaN</td>\n",
              "    </tr>\n",
              "    <tr>\n",
              "      <th>1</th>\n",
              "      <td>England</td>\n",
              "      <td>Scotland</td>\n",
              "      <td>4</td>\n",
              "      <td>2</td>\n",
              "      <td>Friendly</td>\n",
              "      <td>London</td>\n",
              "      <td>England</td>\n",
              "      <td>False</td>\n",
              "      <td>win</td>\n",
              "      <td>Friendly</td>\n",
              "      <td>1873</td>\n",
              "      <td>3</td>\n",
              "      <td>NaN</td>\n",
              "      <td>NaN</td>\n",
              "    </tr>\n",
              "  </tbody>\n",
              "</table>\n",
              "</div>"
            ],
            "text/plain": [
              "  home_team away_team  home_score  ...  month home_rank rank_change\n",
              "0  Scotland   England           0  ...     11       NaN         NaN\n",
              "1   England  Scotland           4  ...      3       NaN         NaN\n",
              "\n",
              "[2 rows x 14 columns]"
            ]
          },
          "metadata": {
            "tags": []
          },
          "execution_count": 44
        }
      ]
    },
    {
      "cell_type": "code",
      "metadata": {
        "id": "kqsOgG2ooXpK",
        "outputId": "c88640b7-a932-445b-824e-73134f4b3971",
        "colab": {
          "base_uri": "https://localhost:8080/",
          "height": 110
        }
      },
      "source": [
        "\n",
        "#  renaming the column home_team (originally called country full) as away team  so that we get their individual ranks of away teams\n",
        "FRankone= FifaRank.rename({'home_team': 'away_team'}, axis = 1)\n",
        "FRankone.head(2)"
      ],
      "execution_count": 45,
      "outputs": [
        {
          "output_type": "execute_result",
          "data": {
            "text/html": [
              "<div>\n",
              "<style scoped>\n",
              "    .dataframe tbody tr th:only-of-type {\n",
              "        vertical-align: middle;\n",
              "    }\n",
              "\n",
              "    .dataframe tbody tr th {\n",
              "        vertical-align: top;\n",
              "    }\n",
              "\n",
              "    .dataframe thead th {\n",
              "        text-align: right;\n",
              "    }\n",
              "</style>\n",
              "<table border=\"1\" class=\"dataframe\">\n",
              "  <thead>\n",
              "    <tr style=\"text-align: right;\">\n",
              "      <th></th>\n",
              "      <th>rank</th>\n",
              "      <th>away_team</th>\n",
              "      <th>rank_change</th>\n",
              "      <th>year</th>\n",
              "      <th>month</th>\n",
              "    </tr>\n",
              "  </thead>\n",
              "  <tbody>\n",
              "    <tr>\n",
              "      <th>0</th>\n",
              "      <td>1</td>\n",
              "      <td>Germany</td>\n",
              "      <td>0</td>\n",
              "      <td>1993</td>\n",
              "      <td>8</td>\n",
              "    </tr>\n",
              "    <tr>\n",
              "      <th>1</th>\n",
              "      <td>2</td>\n",
              "      <td>Italy</td>\n",
              "      <td>0</td>\n",
              "      <td>1993</td>\n",
              "      <td>8</td>\n",
              "    </tr>\n",
              "  </tbody>\n",
              "</table>\n",
              "</div>"
            ],
            "text/plain": [
              "   rank away_team  rank_change  year  month\n",
              "0     1   Germany            0  1993      8\n",
              "1     2     Italy            0  1993      8"
            ]
          },
          "metadata": {
            "tags": []
          },
          "execution_count": 45
        }
      ]
    },
    {
      "cell_type": "code",
      "metadata": {
        "id": "Mpm4Yexars1J"
      },
      "source": [
        "# Merging the home_merged dataset with the \n",
        "# Based on away_team, year, month\n",
        "Fiifa = pd.merge(home_me,FRankone, how=\"left\", on = ['away_team', 'year', 'month'])"
      ],
      "execution_count": 46,
      "outputs": []
    },
    {
      "cell_type": "code",
      "metadata": {
        "id": "KWh33rUUsKRY",
        "outputId": "9bd268f6-9bb3-4142-a578-baa69d00310d",
        "colab": {
          "base_uri": "https://localhost:8080/",
          "height": 130
        }
      },
      "source": [
        "# Checking the first two observations of the merged dataset\n",
        "\n",
        "Fiifa.head(2)"
      ],
      "execution_count": 47,
      "outputs": [
        {
          "output_type": "execute_result",
          "data": {
            "text/html": [
              "<div>\n",
              "<style scoped>\n",
              "    .dataframe tbody tr th:only-of-type {\n",
              "        vertical-align: middle;\n",
              "    }\n",
              "\n",
              "    .dataframe tbody tr th {\n",
              "        vertical-align: top;\n",
              "    }\n",
              "\n",
              "    .dataframe thead th {\n",
              "        text-align: right;\n",
              "    }\n",
              "</style>\n",
              "<table border=\"1\" class=\"dataframe\">\n",
              "  <thead>\n",
              "    <tr style=\"text-align: right;\">\n",
              "      <th></th>\n",
              "      <th>home_team</th>\n",
              "      <th>away_team</th>\n",
              "      <th>home_score</th>\n",
              "      <th>away_score</th>\n",
              "      <th>tournament</th>\n",
              "      <th>city</th>\n",
              "      <th>country</th>\n",
              "      <th>neutral</th>\n",
              "      <th>status</th>\n",
              "      <th>tournament_type</th>\n",
              "      <th>year</th>\n",
              "      <th>month</th>\n",
              "      <th>home_rank</th>\n",
              "      <th>rank_change_x</th>\n",
              "      <th>rank</th>\n",
              "      <th>rank_change_y</th>\n",
              "    </tr>\n",
              "  </thead>\n",
              "  <tbody>\n",
              "    <tr>\n",
              "      <th>0</th>\n",
              "      <td>Scotland</td>\n",
              "      <td>England</td>\n",
              "      <td>0</td>\n",
              "      <td>0</td>\n",
              "      <td>Friendly</td>\n",
              "      <td>Glasgow</td>\n",
              "      <td>Scotland</td>\n",
              "      <td>False</td>\n",
              "      <td>draw</td>\n",
              "      <td>Friendly</td>\n",
              "      <td>1872</td>\n",
              "      <td>11</td>\n",
              "      <td>NaN</td>\n",
              "      <td>NaN</td>\n",
              "      <td>NaN</td>\n",
              "      <td>NaN</td>\n",
              "    </tr>\n",
              "    <tr>\n",
              "      <th>1</th>\n",
              "      <td>England</td>\n",
              "      <td>Scotland</td>\n",
              "      <td>4</td>\n",
              "      <td>2</td>\n",
              "      <td>Friendly</td>\n",
              "      <td>London</td>\n",
              "      <td>England</td>\n",
              "      <td>False</td>\n",
              "      <td>win</td>\n",
              "      <td>Friendly</td>\n",
              "      <td>1873</td>\n",
              "      <td>3</td>\n",
              "      <td>NaN</td>\n",
              "      <td>NaN</td>\n",
              "      <td>NaN</td>\n",
              "      <td>NaN</td>\n",
              "    </tr>\n",
              "  </tbody>\n",
              "</table>\n",
              "</div>"
            ],
            "text/plain": [
              "  home_team away_team  home_score  ...  rank_change_x rank rank_change_y\n",
              "0  Scotland   England           0  ...            NaN  NaN           NaN\n",
              "1   England  Scotland           4  ...            NaN  NaN           NaN\n",
              "\n",
              "[2 rows x 16 columns]"
            ]
          },
          "metadata": {
            "tags": []
          },
          "execution_count": 47
        }
      ]
    },
    {
      "cell_type": "code",
      "metadata": {
        "id": "soLvzzWyseww",
        "outputId": "8c8aefbe-831e-4ba7-be56-6cbc60719b7d",
        "colab": {
          "base_uri": "https://localhost:8080/",
          "height": 222
        }
      },
      "source": [
        "# renaming the rank column as away rank in the new dataframe\n",
        "\n",
        "Fiifa = Fiifa.rename({'rank': 'away_rank'}, axis = 1)\n",
        "Fiifa.head()"
      ],
      "execution_count": 48,
      "outputs": [
        {
          "output_type": "execute_result",
          "data": {
            "text/html": [
              "<div>\n",
              "<style scoped>\n",
              "    .dataframe tbody tr th:only-of-type {\n",
              "        vertical-align: middle;\n",
              "    }\n",
              "\n",
              "    .dataframe tbody tr th {\n",
              "        vertical-align: top;\n",
              "    }\n",
              "\n",
              "    .dataframe thead th {\n",
              "        text-align: right;\n",
              "    }\n",
              "</style>\n",
              "<table border=\"1\" class=\"dataframe\">\n",
              "  <thead>\n",
              "    <tr style=\"text-align: right;\">\n",
              "      <th></th>\n",
              "      <th>home_team</th>\n",
              "      <th>away_team</th>\n",
              "      <th>home_score</th>\n",
              "      <th>away_score</th>\n",
              "      <th>tournament</th>\n",
              "      <th>city</th>\n",
              "      <th>country</th>\n",
              "      <th>neutral</th>\n",
              "      <th>status</th>\n",
              "      <th>tournament_type</th>\n",
              "      <th>year</th>\n",
              "      <th>month</th>\n",
              "      <th>home_rank</th>\n",
              "      <th>rank_change_x</th>\n",
              "      <th>away_rank</th>\n",
              "      <th>rank_change_y</th>\n",
              "    </tr>\n",
              "  </thead>\n",
              "  <tbody>\n",
              "    <tr>\n",
              "      <th>0</th>\n",
              "      <td>Scotland</td>\n",
              "      <td>England</td>\n",
              "      <td>0</td>\n",
              "      <td>0</td>\n",
              "      <td>Friendly</td>\n",
              "      <td>Glasgow</td>\n",
              "      <td>Scotland</td>\n",
              "      <td>False</td>\n",
              "      <td>draw</td>\n",
              "      <td>Friendly</td>\n",
              "      <td>1872</td>\n",
              "      <td>11</td>\n",
              "      <td>NaN</td>\n",
              "      <td>NaN</td>\n",
              "      <td>NaN</td>\n",
              "      <td>NaN</td>\n",
              "    </tr>\n",
              "    <tr>\n",
              "      <th>1</th>\n",
              "      <td>England</td>\n",
              "      <td>Scotland</td>\n",
              "      <td>4</td>\n",
              "      <td>2</td>\n",
              "      <td>Friendly</td>\n",
              "      <td>London</td>\n",
              "      <td>England</td>\n",
              "      <td>False</td>\n",
              "      <td>win</td>\n",
              "      <td>Friendly</td>\n",
              "      <td>1873</td>\n",
              "      <td>3</td>\n",
              "      <td>NaN</td>\n",
              "      <td>NaN</td>\n",
              "      <td>NaN</td>\n",
              "      <td>NaN</td>\n",
              "    </tr>\n",
              "    <tr>\n",
              "      <th>2</th>\n",
              "      <td>Scotland</td>\n",
              "      <td>England</td>\n",
              "      <td>2</td>\n",
              "      <td>1</td>\n",
              "      <td>Friendly</td>\n",
              "      <td>Glasgow</td>\n",
              "      <td>Scotland</td>\n",
              "      <td>False</td>\n",
              "      <td>win</td>\n",
              "      <td>Friendly</td>\n",
              "      <td>1874</td>\n",
              "      <td>3</td>\n",
              "      <td>NaN</td>\n",
              "      <td>NaN</td>\n",
              "      <td>NaN</td>\n",
              "      <td>NaN</td>\n",
              "    </tr>\n",
              "    <tr>\n",
              "      <th>3</th>\n",
              "      <td>England</td>\n",
              "      <td>Scotland</td>\n",
              "      <td>2</td>\n",
              "      <td>2</td>\n",
              "      <td>Friendly</td>\n",
              "      <td>London</td>\n",
              "      <td>England</td>\n",
              "      <td>False</td>\n",
              "      <td>draw</td>\n",
              "      <td>Friendly</td>\n",
              "      <td>1875</td>\n",
              "      <td>3</td>\n",
              "      <td>NaN</td>\n",
              "      <td>NaN</td>\n",
              "      <td>NaN</td>\n",
              "      <td>NaN</td>\n",
              "    </tr>\n",
              "    <tr>\n",
              "      <th>4</th>\n",
              "      <td>Scotland</td>\n",
              "      <td>England</td>\n",
              "      <td>3</td>\n",
              "      <td>0</td>\n",
              "      <td>Friendly</td>\n",
              "      <td>Glasgow</td>\n",
              "      <td>Scotland</td>\n",
              "      <td>False</td>\n",
              "      <td>win</td>\n",
              "      <td>Friendly</td>\n",
              "      <td>1876</td>\n",
              "      <td>3</td>\n",
              "      <td>NaN</td>\n",
              "      <td>NaN</td>\n",
              "      <td>NaN</td>\n",
              "      <td>NaN</td>\n",
              "    </tr>\n",
              "  </tbody>\n",
              "</table>\n",
              "</div>"
            ],
            "text/plain": [
              "  home_team away_team  home_score  ...  rank_change_x away_rank rank_change_y\n",
              "0  Scotland   England           0  ...            NaN       NaN           NaN\n",
              "1   England  Scotland           4  ...            NaN       NaN           NaN\n",
              "2  Scotland   England           2  ...            NaN       NaN           NaN\n",
              "3   England  Scotland           2  ...            NaN       NaN           NaN\n",
              "4  Scotland   England           3  ...            NaN       NaN           NaN\n",
              "\n",
              "[5 rows x 16 columns]"
            ]
          },
          "metadata": {
            "tags": []
          },
          "execution_count": 48
        }
      ]
    },
    {
      "cell_type": "markdown",
      "metadata": {
        "id": "-Z75RJ3QLx0G"
      },
      "source": [
        "# 4 Tyding the dataset"
      ]
    },
    {
      "cell_type": "code",
      "metadata": {
        "id": "PJPYg1iW8w19",
        "outputId": "0e0316a1-efbc-47e2-a48c-267daae0594f",
        "colab": {
          "base_uri": "https://localhost:8080/"
        }
      },
      "source": [
        "# checking for unique year rankings\n",
        "FifaRank.year.unique()\n"
      ],
      "execution_count": 49,
      "outputs": [
        {
          "output_type": "execute_result",
          "data": {
            "text/plain": [
              "array([1993, 1994, 1995, 1996, 1997, 1998, 1999, 2000, 2001, 2002, 2003,\n",
              "       2004, 2005, 2006, 2007, 2008, 2009, 2010, 2011, 2012, 2013, 2014,\n",
              "       2015, 2016, 2017, 2018])"
            ]
          },
          "metadata": {
            "tags": []
          },
          "execution_count": 49
        }
      ]
    },
    {
      "cell_type": "markdown",
      "metadata": {
        "id": "0VnbrYJ846jX"
      },
      "source": [
        "Rankings are from 1993 t0 2018 .after merging a lot of missing values were noted especialy in years before 1993 and after 2018.therefore i will drop the data where this was observed as there are no rankings available"
      ]
    },
    {
      "cell_type": "code",
      "metadata": {
        "id": "s4VbsB4B4aDl"
      },
      "source": [
        "Fiifa.dropna(inplace = True)"
      ],
      "execution_count": 50,
      "outputs": []
    },
    {
      "cell_type": "code",
      "metadata": {
        "id": "vzblMaFJD096",
        "outputId": "70152208-2494-4856-bf18-6604e700a969",
        "colab": {
          "base_uri": "https://localhost:8080/"
        }
      },
      "source": [
        "# confirming that there are no null values\n",
        "\n",
        "Fiifa.isnull().sum()"
      ],
      "execution_count": 51,
      "outputs": [
        {
          "output_type": "execute_result",
          "data": {
            "text/plain": [
              "home_team          0\n",
              "away_team          0\n",
              "home_score         0\n",
              "away_score         0\n",
              "tournament         0\n",
              "city               0\n",
              "country            0\n",
              "neutral            0\n",
              "status             0\n",
              "tournament_type    0\n",
              "year               0\n",
              "month              0\n",
              "home_rank          0\n",
              "rank_change_x      0\n",
              "away_rank          0\n",
              "rank_change_y      0\n",
              "dtype: int64"
            ]
          },
          "metadata": {
            "tags": []
          },
          "execution_count": 51
        }
      ]
    },
    {
      "cell_type": "code",
      "metadata": {
        "id": "Mt7IeSzEJc_9",
        "outputId": "2373d14b-2f27-4e3f-86ac-1931bf70568d",
        "colab": {
          "base_uri": "https://localhost:8080/"
        }
      },
      "source": [
        "# checking for duplicates\n",
        "\n",
        "Fiifa.duplicated().sum()"
      ],
      "execution_count": 52,
      "outputs": [
        {
          "output_type": "execute_result",
          "data": {
            "text/plain": [
              "68"
            ]
          },
          "metadata": {
            "tags": []
          },
          "execution_count": 52
        }
      ]
    },
    {
      "cell_type": "code",
      "metadata": {
        "id": "X7U5QxkbJc5U"
      },
      "source": [
        "# dropping the duplicates\n",
        "Fiifa.drop_duplicates(inplace = True)\n"
      ],
      "execution_count": 53,
      "outputs": []
    },
    {
      "cell_type": "code",
      "metadata": {
        "id": "ogOjz3hQLHSQ",
        "outputId": "3e3c11a1-0169-4fb4-a660-3ea7385acf54",
        "colab": {
          "base_uri": "https://localhost:8080/"
        }
      },
      "source": [
        "# Checking that we have no duplicates in the data\n",
        "Fiifa.duplicated().sum()"
      ],
      "execution_count": 54,
      "outputs": [
        {
          "output_type": "execute_result",
          "data": {
            "text/plain": [
              "0"
            ]
          },
          "metadata": {
            "tags": []
          },
          "execution_count": 54
        }
      ]
    },
    {
      "cell_type": "code",
      "metadata": {
        "id": "IOQXcviOL6fb",
        "outputId": "07968395-1a03-4cb7-8439-118923763fa9",
        "colab": {
          "base_uri": "https://localhost:8080/"
        }
      },
      "source": [
        "# checking columns of merged dataset\n",
        "\n",
        "Fiifa.columns"
      ],
      "execution_count": 55,
      "outputs": [
        {
          "output_type": "execute_result",
          "data": {
            "text/plain": [
              "Index(['home_team', 'away_team', 'home_score', 'away_score', 'tournament',\n",
              "       'city', 'country', 'neutral', 'status', 'tournament_type', 'year',\n",
              "       'month', 'home_rank', 'rank_change_x', 'away_rank', 'rank_change_y'],\n",
              "      dtype='object')"
            ]
          },
          "metadata": {
            "tags": []
          },
          "execution_count": 55
        }
      ]
    },
    {
      "cell_type": "code",
      "metadata": {
        "id": "10U7Hw4tD07G",
        "outputId": "5319a1c7-156c-4e1a-f7c1-2be00303006a",
        "colab": {
          "base_uri": "https://localhost:8080/",
          "height": 395
        }
      },
      "source": [
        "# viewing our dataset after cleaning\n",
        "Fiifa.head()"
      ],
      "execution_count": 56,
      "outputs": [
        {
          "output_type": "execute_result",
          "data": {
            "text/html": [
              "<div>\n",
              "<style scoped>\n",
              "    .dataframe tbody tr th:only-of-type {\n",
              "        vertical-align: middle;\n",
              "    }\n",
              "\n",
              "    .dataframe tbody tr th {\n",
              "        vertical-align: top;\n",
              "    }\n",
              "\n",
              "    .dataframe thead th {\n",
              "        text-align: right;\n",
              "    }\n",
              "</style>\n",
              "<table border=\"1\" class=\"dataframe\">\n",
              "  <thead>\n",
              "    <tr style=\"text-align: right;\">\n",
              "      <th></th>\n",
              "      <th>home_team</th>\n",
              "      <th>away_team</th>\n",
              "      <th>home_score</th>\n",
              "      <th>away_score</th>\n",
              "      <th>tournament</th>\n",
              "      <th>city</th>\n",
              "      <th>country</th>\n",
              "      <th>neutral</th>\n",
              "      <th>status</th>\n",
              "      <th>tournament_type</th>\n",
              "      <th>year</th>\n",
              "      <th>month</th>\n",
              "      <th>home_rank</th>\n",
              "      <th>rank_change_x</th>\n",
              "      <th>away_rank</th>\n",
              "      <th>rank_change_y</th>\n",
              "    </tr>\n",
              "  </thead>\n",
              "  <tbody>\n",
              "    <tr>\n",
              "      <th>17910</th>\n",
              "      <td>Colombia</td>\n",
              "      <td>Paraguay</td>\n",
              "      <td>0</td>\n",
              "      <td>0</td>\n",
              "      <td>FIFA World Cup qualification</td>\n",
              "      <td>Barranquilla</td>\n",
              "      <td>Colombia</td>\n",
              "      <td>False</td>\n",
              "      <td>draw</td>\n",
              "      <td>Other</td>\n",
              "      <td>1993</td>\n",
              "      <td>8</td>\n",
              "      <td>19.0</td>\n",
              "      <td>16.0</td>\n",
              "      <td>67.0</td>\n",
              "      <td>1.0</td>\n",
              "    </tr>\n",
              "    <tr>\n",
              "      <th>17911</th>\n",
              "      <td>Peru</td>\n",
              "      <td>Argentina</td>\n",
              "      <td>0</td>\n",
              "      <td>1</td>\n",
              "      <td>FIFA World Cup qualification</td>\n",
              "      <td>Lima</td>\n",
              "      <td>Peru</td>\n",
              "      <td>False</td>\n",
              "      <td>loss</td>\n",
              "      <td>Other</td>\n",
              "      <td>1993</td>\n",
              "      <td>8</td>\n",
              "      <td>70.0</td>\n",
              "      <td>8.0</td>\n",
              "      <td>5.0</td>\n",
              "      <td>5.0</td>\n",
              "    </tr>\n",
              "    <tr>\n",
              "      <th>17912</th>\n",
              "      <td>Uruguay</td>\n",
              "      <td>Ecuador</td>\n",
              "      <td>0</td>\n",
              "      <td>0</td>\n",
              "      <td>FIFA World Cup qualification</td>\n",
              "      <td>Montevideo</td>\n",
              "      <td>Uruguay</td>\n",
              "      <td>False</td>\n",
              "      <td>draw</td>\n",
              "      <td>Other</td>\n",
              "      <td>1993</td>\n",
              "      <td>8</td>\n",
              "      <td>22.0</td>\n",
              "      <td>-6.0</td>\n",
              "      <td>35.0</td>\n",
              "      <td>30.0</td>\n",
              "    </tr>\n",
              "    <tr>\n",
              "      <th>17913</th>\n",
              "      <td>Venezuela</td>\n",
              "      <td>Brazil</td>\n",
              "      <td>1</td>\n",
              "      <td>5</td>\n",
              "      <td>FIFA World Cup qualification</td>\n",
              "      <td>San Cristóbal</td>\n",
              "      <td>Venezuela</td>\n",
              "      <td>False</td>\n",
              "      <td>loss</td>\n",
              "      <td>Other</td>\n",
              "      <td>1993</td>\n",
              "      <td>8</td>\n",
              "      <td>94.0</td>\n",
              "      <td>31.0</td>\n",
              "      <td>8.0</td>\n",
              "      <td>-5.0</td>\n",
              "    </tr>\n",
              "    <tr>\n",
              "      <th>17914</th>\n",
              "      <td>Senegal</td>\n",
              "      <td>Zambia</td>\n",
              "      <td>0</td>\n",
              "      <td>0</td>\n",
              "      <td>FIFA World Cup qualification</td>\n",
              "      <td>Abidjan</td>\n",
              "      <td>Ivory Coast</td>\n",
              "      <td>True</td>\n",
              "      <td>draw</td>\n",
              "      <td>Other</td>\n",
              "      <td>1993</td>\n",
              "      <td>8</td>\n",
              "      <td>58.0</td>\n",
              "      <td>-7.0</td>\n",
              "      <td>25.0</td>\n",
              "      <td>7.0</td>\n",
              "    </tr>\n",
              "  </tbody>\n",
              "</table>\n",
              "</div>"
            ],
            "text/plain": [
              "       home_team  away_team  ...  away_rank  rank_change_y\n",
              "17910   Colombia   Paraguay  ...       67.0            1.0\n",
              "17911       Peru  Argentina  ...        5.0            5.0\n",
              "17912    Uruguay    Ecuador  ...       35.0           30.0\n",
              "17913  Venezuela     Brazil  ...        8.0           -5.0\n",
              "17914    Senegal     Zambia  ...       25.0            7.0\n",
              "\n",
              "[5 rows x 16 columns]"
            ]
          },
          "metadata": {
            "tags": []
          },
          "execution_count": 56
        }
      ]
    },
    {
      "cell_type": "code",
      "metadata": {
        "id": "CHziyD9NAbUj",
        "outputId": "ed305db0-5619-47cb-91b7-e62c3eef1142",
        "colab": {
          "base_uri": "https://localhost:8080/"
        }
      },
      "source": [
        "#  checking the shape of the cleaned data\n",
        "\n",
        "Fiifa.shape"
      ],
      "execution_count": 57,
      "outputs": [
        {
          "output_type": "execute_result",
          "data": {
            "text/plain": [
              "(16889, 16)"
            ]
          },
          "metadata": {
            "tags": []
          },
          "execution_count": 57
        }
      ]
    },
    {
      "cell_type": "markdown",
      "metadata": {
        "id": "m4O6IQowlpB4"
      },
      "source": [
        "This dataset has 16889 rows and 16 columns"
      ]
    },
    {
      "cell_type": "code",
      "metadata": {
        "id": "aM8UmLFsSmj9"
      },
      "source": [
        "# Encoding the categorical columns so as to manage perform operations such as correlation check\n",
        "#\n",
        "\n",
        "le = LabelEncoder()\n",
        "Fiifa= Fiifa.apply(le.fit_transform)\n"
      ],
      "execution_count": 58,
      "outputs": []
    },
    {
      "cell_type": "code",
      "metadata": {
        "id": "gTxyu786Td2C",
        "outputId": "809b7c29-7ef5-4ae1-a971-81925eb05a18",
        "colab": {
          "base_uri": "https://localhost:8080/",
          "height": 222
        }
      },
      "source": [
        "# Confirming the changes\n",
        "\n",
        "Fiifa.head(5)"
      ],
      "execution_count": 59,
      "outputs": [
        {
          "output_type": "execute_result",
          "data": {
            "text/html": [
              "<div>\n",
              "<style scoped>\n",
              "    .dataframe tbody tr th:only-of-type {\n",
              "        vertical-align: middle;\n",
              "    }\n",
              "\n",
              "    .dataframe tbody tr th {\n",
              "        vertical-align: top;\n",
              "    }\n",
              "\n",
              "    .dataframe thead th {\n",
              "        text-align: right;\n",
              "    }\n",
              "</style>\n",
              "<table border=\"1\" class=\"dataframe\">\n",
              "  <thead>\n",
              "    <tr style=\"text-align: right;\">\n",
              "      <th></th>\n",
              "      <th>home_team</th>\n",
              "      <th>away_team</th>\n",
              "      <th>home_score</th>\n",
              "      <th>away_score</th>\n",
              "      <th>tournament</th>\n",
              "      <th>city</th>\n",
              "      <th>country</th>\n",
              "      <th>neutral</th>\n",
              "      <th>status</th>\n",
              "      <th>tournament_type</th>\n",
              "      <th>year</th>\n",
              "      <th>month</th>\n",
              "      <th>home_rank</th>\n",
              "      <th>rank_change_x</th>\n",
              "      <th>away_rank</th>\n",
              "      <th>rank_change_y</th>\n",
              "    </tr>\n",
              "  </thead>\n",
              "  <tbody>\n",
              "    <tr>\n",
              "      <th>17910</th>\n",
              "      <td>41</td>\n",
              "      <td>137</td>\n",
              "      <td>0</td>\n",
              "      <td>0</td>\n",
              "      <td>26</td>\n",
              "      <td>119</td>\n",
              "      <td>42</td>\n",
              "      <td>0</td>\n",
              "      <td>0</td>\n",
              "      <td>1</td>\n",
              "      <td>0</td>\n",
              "      <td>7</td>\n",
              "      <td>18</td>\n",
              "      <td>55</td>\n",
              "      <td>66</td>\n",
              "      <td>45</td>\n",
              "    </tr>\n",
              "    <tr>\n",
              "      <th>17911</th>\n",
              "      <td>138</td>\n",
              "      <td>8</td>\n",
              "      <td>0</td>\n",
              "      <td>1</td>\n",
              "      <td>26</td>\n",
              "      <td>636</td>\n",
              "      <td>148</td>\n",
              "      <td>0</td>\n",
              "      <td>1</td>\n",
              "      <td>1</td>\n",
              "      <td>0</td>\n",
              "      <td>7</td>\n",
              "      <td>69</td>\n",
              "      <td>47</td>\n",
              "      <td>4</td>\n",
              "      <td>49</td>\n",
              "    </tr>\n",
              "    <tr>\n",
              "      <th>17912</th>\n",
              "      <td>184</td>\n",
              "      <td>55</td>\n",
              "      <td>0</td>\n",
              "      <td>0</td>\n",
              "      <td>26</td>\n",
              "      <td>763</td>\n",
              "      <td>201</td>\n",
              "      <td>0</td>\n",
              "      <td>0</td>\n",
              "      <td>1</td>\n",
              "      <td>0</td>\n",
              "      <td>7</td>\n",
              "      <td>21</td>\n",
              "      <td>33</td>\n",
              "      <td>34</td>\n",
              "      <td>74</td>\n",
              "    </tr>\n",
              "    <tr>\n",
              "      <th>17913</th>\n",
              "      <td>187</td>\n",
              "      <td>27</td>\n",
              "      <td>1</td>\n",
              "      <td>5</td>\n",
              "      <td>26</td>\n",
              "      <td>1044</td>\n",
              "      <td>204</td>\n",
              "      <td>0</td>\n",
              "      <td>1</td>\n",
              "      <td>1</td>\n",
              "      <td>0</td>\n",
              "      <td>7</td>\n",
              "      <td>93</td>\n",
              "      <td>70</td>\n",
              "      <td>7</td>\n",
              "      <td>39</td>\n",
              "    </tr>\n",
              "    <tr>\n",
              "      <th>17914</th>\n",
              "      <td>152</td>\n",
              "      <td>191</td>\n",
              "      <td>0</td>\n",
              "      <td>0</td>\n",
              "      <td>26</td>\n",
              "      <td>6</td>\n",
              "      <td>95</td>\n",
              "      <td>1</td>\n",
              "      <td>0</td>\n",
              "      <td>1</td>\n",
              "      <td>0</td>\n",
              "      <td>7</td>\n",
              "      <td>57</td>\n",
              "      <td>32</td>\n",
              "      <td>24</td>\n",
              "      <td>51</td>\n",
              "    </tr>\n",
              "  </tbody>\n",
              "</table>\n",
              "</div>"
            ],
            "text/plain": [
              "       home_team  away_team  ...  away_rank  rank_change_y\n",
              "17910         41        137  ...         66             45\n",
              "17911        138          8  ...          4             49\n",
              "17912        184         55  ...         34             74\n",
              "17913        187         27  ...          7             39\n",
              "17914        152        191  ...         24             51\n",
              "\n",
              "[5 rows x 16 columns]"
            ]
          },
          "metadata": {
            "tags": []
          },
          "execution_count": 59
        }
      ]
    },
    {
      "cell_type": "code",
      "metadata": {
        "id": "24GK1soO1wUA",
        "outputId": "3db42d99-7934-4f02-dc2b-3dcb7b2400eb",
        "colab": {
          "base_uri": "https://localhost:8080/",
          "height": 404
        }
      },
      "source": [
        "# checking for outliers in our dataset\n",
        "# Using boxplots\n",
        "# Labeling the title of our chart\n",
        "# Displaying chart \n",
        "\n",
        "plt.figure(dpi = 100)\n",
        "ax = sns.boxplot(data = Fiifa,orient='h')\n",
        "plt.title(' Outliers in Fifa  dataset', color = 'red')\n",
        "plt.xlabel(' Frequency')\n",
        "plt.show()"
      ],
      "execution_count": 60,
      "outputs": [
        {
          "output_type": "display_data",
          "data": {
            "image/png": "[encoded data removed]",
            "text/plain": [
              "<Figure size 600x400 with 1 Axes>"
            ]
          },
          "metadata": {
            "tags": [],
            "needs_background": "light"
          }
        }
      ]
    },
    {
      "cell_type": "markdown",
      "metadata": {
        "id": "ch3NXLQh_cdk"
      },
      "source": [
        "# 5 Exploratory data analysis"
      ]
    },
    {
      "cell_type": "code",
      "metadata": {
        "id": "-qBs4diILGqD",
        "outputId": "dc7c476a-3351-43ec-ca1e-f06268fef3cb",
        "colab": {
          "base_uri": "https://localhost:8080/",
          "height": 295
        }
      },
      "source": [
        "h=Fiifa['home_score']\n",
        "\n",
        "plt.hist(h, histtype='bar', rwidth=0.9)\n",
        "plt.xlabel('No. of home scores')\n",
        "plt.ylabel('Quantity')\n",
        "plt.title('number of home scores',color='red')\n",
        "plt.show()"
      ],
      "execution_count": 61,
      "outputs": [
        {
          "output_type": "display_data",
          "data": {
            "image/png": "[encoded data removed]",
            "text/plain": [
              "<Figure size 432x288 with 1 Axes>"
            ]
          },
          "metadata": {
            "tags": [],
            "needs_background": "light"
          }
        }
      ]
    },
    {
      "cell_type": "markdown",
      "metadata": {
        "id": "X3Fmm_Q5VeO8"
      },
      "source": [
        " home teams scored mostly one goal"
      ]
    },
    {
      "cell_type": "code",
      "metadata": {
        "id": "EyaWJFdrVHIk",
        "outputId": "7322b5a4-8e1a-4efc-b9b1-6652d8e02f4a",
        "colab": {
          "base_uri": "https://localhost:8080/",
          "height": 295
        }
      },
      "source": [
        "a=Fiifa['away_score']\n",
        "\n",
        "plt.hist(h, histtype='bar', rwidth=0.9)\n",
        "plt.xlabel('No. of away scores')\n",
        "plt.ylabel('Quantity')\n",
        "plt.title('number of away scores',color='red')\n",
        "plt.show()"
      ],
      "execution_count": 62,
      "outputs": [
        {
          "output_type": "display_data",
          "data": {
            "image/png": "[encoded data removed]",
            "text/plain": [
              "<Figure size 432x288 with 1 Axes>"
            ]
          },
          "metadata": {
            "tags": [],
            "needs_background": "light"
          }
        }
      ]
    },
    {
      "cell_type": "markdown",
      "metadata": {
        "id": "jF8oo1CzCiWQ"
      },
      "source": [
        "Most away teams score atleast one goal\n",
        "\n",
        "Both histograms are  positively skewed .This shape indicates that there are a number of data points, perhaps outliers, that are greater than the mode\n"
      ]
    },
    {
      "cell_type": "code",
      "metadata": {
        "id": "Tvp6_QQzPgpC",
        "outputId": "94e11c4f-bbe8-455c-c5b0-0c572690a562",
        "colab": {
          "base_uri": "https://localhost:8080/",
          "height": 499
        }
      },
      "source": [
        "# status of game results in respect tothe home team(draw = 0, lose =1, win = 2)\n",
        "# Using a countplot to visualize these results\n",
        "# Using Seaborn\n",
        "# Labeling the x and y axis\n",
        "# Giving a title to our chart\n",
        "# Displaying our chart\n",
        "\n",
        "plt.figure(figsize = (6,6), dpi = 80)\n",
        "sns.countplot(Fiifa['status'])\n",
        "plt.xlabel('status (draw = 0, lose =1, win = 2)')\n",
        "plt.ylabel('Count')\n",
        "plt.title('status of games results', color = 'red')\n",
        "plt.show()"
      ],
      "execution_count": 63,
      "outputs": [
        {
          "output_type": "stream",
          "text": [
            "/usr/local/lib/python3.6/dist-packages/seaborn/_decorators.py:43: FutureWarning: Pass the following variable as a keyword arg: x. From version 0.12, the only valid positional argument will be `data`, and passing other arguments without an explicit keyword will result in an error or misinterpretation.\n",
            "  FutureWarning\n"
          ],
          "name": "stderr"
        },
        {
          "output_type": "display_data",
          "data": {
            "image/png": "[encoded data removed]",
            "text/plain": [
              "<Figure size 480x480 with 1 Axes>"
            ]
          },
          "metadata": {
            "tags": [],
            "needs_background": "light"
          }
        }
      ]
    },
    {
      "cell_type": "markdown",
      "metadata": {
        "id": "FfxZH43SDn_7"
      },
      "source": [
        "The  above bar chart above shows that wins by the home teams are high as compared to loss/draws"
      ]
    },
    {
      "cell_type": "markdown",
      "metadata": {
        "id": "kFIeh2HWMWji"
      },
      "source": [
        "# 6 Multicollinearity\n",
        " * Checking for multicollinearity\n",
        " * Solving multicollinearity"
      ]
    },
    {
      "cell_type": "code",
      "metadata": {
        "id": "1f3ve3HwLolc",
        "outputId": "adb4ae45-752d-4378-f50b-ca61b7db52b4",
        "colab": {
          "base_uri": "https://localhost:8080/",
          "height": 559
        }
      },
      "source": [
        "# Before we build a model we shall check if\n",
        "# the independent variables are collinear/ correlated to each other\n",
        "# Getting the pearson correation coefficient for each of the variables\n",
        "\n",
        "correlation = Fiifa.corr()\n",
        "correlation"
      ],
      "execution_count": 64,
      "outputs": [
        {
          "output_type": "execute_result",
          "data": {
            "text/html": [
              "<div>\n",
              "<style scoped>\n",
              "    .dataframe tbody tr th:only-of-type {\n",
              "        vertical-align: middle;\n",
              "    }\n",
              "\n",
              "    .dataframe tbody tr th {\n",
              "        vertical-align: top;\n",
              "    }\n",
              "\n",
              "    .dataframe thead th {\n",
              "        text-align: right;\n",
              "    }\n",
              "</style>\n",
              "<table border=\"1\" class=\"dataframe\">\n",
              "  <thead>\n",
              "    <tr style=\"text-align: right;\">\n",
              "      <th></th>\n",
              "      <th>home_team</th>\n",
              "      <th>away_team</th>\n",
              "      <th>home_score</th>\n",
              "      <th>away_score</th>\n",
              "      <th>tournament</th>\n",
              "      <th>city</th>\n",
              "      <th>country</th>\n",
              "      <th>neutral</th>\n",
              "      <th>status</th>\n",
              "      <th>tournament_type</th>\n",
              "      <th>year</th>\n",
              "      <th>month</th>\n",
              "      <th>home_rank</th>\n",
              "      <th>rank_change_x</th>\n",
              "      <th>away_rank</th>\n",
              "      <th>rank_change_y</th>\n",
              "    </tr>\n",
              "  </thead>\n",
              "  <tbody>\n",
              "    <tr>\n",
              "      <th>home_team</th>\n",
              "      <td>1.000000</td>\n",
              "      <td>0.009999</td>\n",
              "      <td>0.017875</td>\n",
              "      <td>-0.033232</td>\n",
              "      <td>-0.046225</td>\n",
              "      <td>-0.084928</td>\n",
              "      <td>0.742702</td>\n",
              "      <td>-0.049546</td>\n",
              "      <td>0.011477</td>\n",
              "      <td>0.003347</td>\n",
              "      <td>0.002747</td>\n",
              "      <td>0.040741</td>\n",
              "      <td>-0.003722</td>\n",
              "      <td>-0.002395</td>\n",
              "      <td>0.062434</td>\n",
              "      <td>-0.003252</td>\n",
              "    </tr>\n",
              "    <tr>\n",
              "      <th>away_team</th>\n",
              "      <td>0.009999</td>\n",
              "      <td>1.000000</td>\n",
              "      <td>-0.042943</td>\n",
              "      <td>0.015813</td>\n",
              "      <td>-0.036354</td>\n",
              "      <td>-0.030358</td>\n",
              "      <td>-0.007139</td>\n",
              "      <td>0.039845</td>\n",
              "      <td>-0.019170</td>\n",
              "      <td>-0.006096</td>\n",
              "      <td>-0.008390</td>\n",
              "      <td>0.023472</td>\n",
              "      <td>0.049373</td>\n",
              "      <td>-0.001672</td>\n",
              "      <td>-0.009888</td>\n",
              "      <td>-0.002201</td>\n",
              "    </tr>\n",
              "    <tr>\n",
              "      <th>home_score</th>\n",
              "      <td>0.017875</td>\n",
              "      <td>-0.042943</td>\n",
              "      <td>1.000000</td>\n",
              "      <td>-0.164602</td>\n",
              "      <td>-0.014566</td>\n",
              "      <td>-0.012400</td>\n",
              "      <td>-0.004165</td>\n",
              "      <td>-0.041733</td>\n",
              "      <td>0.522522</td>\n",
              "      <td>0.050249</td>\n",
              "      <td>-0.038570</td>\n",
              "      <td>0.019200</td>\n",
              "      <td>-0.136220</td>\n",
              "      <td>0.085945</td>\n",
              "      <td>0.320022</td>\n",
              "      <td>-0.077205</td>\n",
              "    </tr>\n",
              "    <tr>\n",
              "      <th>away_score</th>\n",
              "      <td>-0.033232</td>\n",
              "      <td>0.015813</td>\n",
              "      <td>-0.164602</td>\n",
              "      <td>1.000000</td>\n",
              "      <td>0.029747</td>\n",
              "      <td>0.011690</td>\n",
              "      <td>-0.005059</td>\n",
              "      <td>0.100376</td>\n",
              "      <td>-0.241997</td>\n",
              "      <td>0.034529</td>\n",
              "      <td>-0.008420</td>\n",
              "      <td>0.018266</td>\n",
              "      <td>0.221594</td>\n",
              "      <td>-0.090063</td>\n",
              "      <td>-0.180567</td>\n",
              "      <td>0.102108</td>\n",
              "    </tr>\n",
              "    <tr>\n",
              "      <th>tournament</th>\n",
              "      <td>-0.046225</td>\n",
              "      <td>-0.036354</td>\n",
              "      <td>-0.014566</td>\n",
              "      <td>0.029747</td>\n",
              "      <td>1.000000</td>\n",
              "      <td>0.074452</td>\n",
              "      <td>-0.055594</td>\n",
              "      <td>-0.079903</td>\n",
              "      <td>-0.005100</td>\n",
              "      <td>-0.010735</td>\n",
              "      <td>-0.058891</td>\n",
              "      <td>0.088975</td>\n",
              "      <td>-0.146436</td>\n",
              "      <td>-0.061078</td>\n",
              "      <td>-0.157283</td>\n",
              "      <td>-0.023410</td>\n",
              "    </tr>\n",
              "    <tr>\n",
              "      <th>city</th>\n",
              "      <td>-0.084928</td>\n",
              "      <td>-0.030358</td>\n",
              "      <td>-0.012400</td>\n",
              "      <td>0.011690</td>\n",
              "      <td>0.074452</td>\n",
              "      <td>1.000000</td>\n",
              "      <td>-0.102360</td>\n",
              "      <td>-0.036555</td>\n",
              "      <td>0.011379</td>\n",
              "      <td>0.000968</td>\n",
              "      <td>0.025388</td>\n",
              "      <td>-0.002007</td>\n",
              "      <td>-0.016565</td>\n",
              "      <td>-0.009979</td>\n",
              "      <td>-0.037492</td>\n",
              "      <td>-0.011533</td>\n",
              "    </tr>\n",
              "    <tr>\n",
              "      <th>country</th>\n",
              "      <td>0.742702</td>\n",
              "      <td>-0.007139</td>\n",
              "      <td>-0.004165</td>\n",
              "      <td>-0.005059</td>\n",
              "      <td>-0.055594</td>\n",
              "      <td>-0.102360</td>\n",
              "      <td>1.000000</td>\n",
              "      <td>0.140573</td>\n",
              "      <td>-0.005324</td>\n",
              "      <td>-0.016837</td>\n",
              "      <td>-0.013207</td>\n",
              "      <td>0.024035</td>\n",
              "      <td>-0.017555</td>\n",
              "      <td>-0.014764</td>\n",
              "      <td>0.037898</td>\n",
              "      <td>-0.005525</td>\n",
              "    </tr>\n",
              "    <tr>\n",
              "      <th>neutral</th>\n",
              "      <td>-0.049546</td>\n",
              "      <td>0.039845</td>\n",
              "      <td>-0.041733</td>\n",
              "      <td>0.100376</td>\n",
              "      <td>-0.079903</td>\n",
              "      <td>-0.036555</td>\n",
              "      <td>0.140573</td>\n",
              "      <td>1.000000</td>\n",
              "      <td>-0.044874</td>\n",
              "      <td>0.126734</td>\n",
              "      <td>0.042749</td>\n",
              "      <td>-0.104652</td>\n",
              "      <td>0.037470</td>\n",
              "      <td>0.019587</td>\n",
              "      <td>0.048054</td>\n",
              "      <td>0.052520</td>\n",
              "    </tr>\n",
              "    <tr>\n",
              "      <th>status</th>\n",
              "      <td>0.011477</td>\n",
              "      <td>-0.019170</td>\n",
              "      <td>0.522522</td>\n",
              "      <td>-0.241997</td>\n",
              "      <td>-0.005100</td>\n",
              "      <td>0.011379</td>\n",
              "      <td>-0.005324</td>\n",
              "      <td>-0.044874</td>\n",
              "      <td>1.000000</td>\n",
              "      <td>0.045366</td>\n",
              "      <td>-0.018781</td>\n",
              "      <td>0.011373</td>\n",
              "      <td>-0.115631</td>\n",
              "      <td>0.102251</td>\n",
              "      <td>0.213884</td>\n",
              "      <td>-0.087113</td>\n",
              "    </tr>\n",
              "    <tr>\n",
              "      <th>tournament_type</th>\n",
              "      <td>0.003347</td>\n",
              "      <td>-0.006096</td>\n",
              "      <td>0.050249</td>\n",
              "      <td>0.034529</td>\n",
              "      <td>-0.010735</td>\n",
              "      <td>0.000968</td>\n",
              "      <td>-0.016837</td>\n",
              "      <td>0.126734</td>\n",
              "      <td>0.045366</td>\n",
              "      <td>1.000000</td>\n",
              "      <td>-0.020018</td>\n",
              "      <td>0.122501</td>\n",
              "      <td>0.068634</td>\n",
              "      <td>0.091498</td>\n",
              "      <td>0.068785</td>\n",
              "      <td>0.090050</td>\n",
              "    </tr>\n",
              "    <tr>\n",
              "      <th>year</th>\n",
              "      <td>0.002747</td>\n",
              "      <td>-0.008390</td>\n",
              "      <td>-0.038570</td>\n",
              "      <td>-0.008420</td>\n",
              "      <td>-0.058891</td>\n",
              "      <td>0.025388</td>\n",
              "      <td>-0.013207</td>\n",
              "      <td>0.042749</td>\n",
              "      <td>-0.018781</td>\n",
              "      <td>-0.020018</td>\n",
              "      <td>1.000000</td>\n",
              "      <td>-0.001921</td>\n",
              "      <td>0.104407</td>\n",
              "      <td>-0.061102</td>\n",
              "      <td>0.106097</td>\n",
              "      <td>-0.069071</td>\n",
              "    </tr>\n",
              "    <tr>\n",
              "      <th>month</th>\n",
              "      <td>0.040741</td>\n",
              "      <td>0.023472</td>\n",
              "      <td>0.019200</td>\n",
              "      <td>0.018266</td>\n",
              "      <td>0.088975</td>\n",
              "      <td>-0.002007</td>\n",
              "      <td>0.024035</td>\n",
              "      <td>-0.104652</td>\n",
              "      <td>0.011373</td>\n",
              "      <td>0.122501</td>\n",
              "      <td>-0.001921</td>\n",
              "      <td>1.000000</td>\n",
              "      <td>0.029009</td>\n",
              "      <td>0.035836</td>\n",
              "      <td>0.030118</td>\n",
              "      <td>0.004372</td>\n",
              "    </tr>\n",
              "    <tr>\n",
              "      <th>home_rank</th>\n",
              "      <td>-0.003722</td>\n",
              "      <td>0.049373</td>\n",
              "      <td>-0.136220</td>\n",
              "      <td>0.221594</td>\n",
              "      <td>-0.146436</td>\n",
              "      <td>-0.016565</td>\n",
              "      <td>-0.017555</td>\n",
              "      <td>0.037470</td>\n",
              "      <td>-0.115631</td>\n",
              "      <td>0.068634</td>\n",
              "      <td>0.104407</td>\n",
              "      <td>0.029009</td>\n",
              "      <td>1.000000</td>\n",
              "      <td>0.000434</td>\n",
              "      <td>0.469473</td>\n",
              "      <td>0.047977</td>\n",
              "    </tr>\n",
              "    <tr>\n",
              "      <th>rank_change_x</th>\n",
              "      <td>-0.002395</td>\n",
              "      <td>-0.001672</td>\n",
              "      <td>0.085945</td>\n",
              "      <td>-0.090063</td>\n",
              "      <td>-0.061078</td>\n",
              "      <td>-0.009979</td>\n",
              "      <td>-0.014764</td>\n",
              "      <td>0.019587</td>\n",
              "      <td>0.102251</td>\n",
              "      <td>0.091498</td>\n",
              "      <td>-0.061102</td>\n",
              "      <td>0.035836</td>\n",
              "      <td>0.000434</td>\n",
              "      <td>1.000000</td>\n",
              "      <td>0.045357</td>\n",
              "      <td>0.036388</td>\n",
              "    </tr>\n",
              "    <tr>\n",
              "      <th>away_rank</th>\n",
              "      <td>0.062434</td>\n",
              "      <td>-0.009888</td>\n",
              "      <td>0.320022</td>\n",
              "      <td>-0.180567</td>\n",
              "      <td>-0.157283</td>\n",
              "      <td>-0.037492</td>\n",
              "      <td>0.037898</td>\n",
              "      <td>0.048054</td>\n",
              "      <td>0.213884</td>\n",
              "      <td>0.068785</td>\n",
              "      <td>0.106097</td>\n",
              "      <td>0.030118</td>\n",
              "      <td>0.469473</td>\n",
              "      <td>0.045357</td>\n",
              "      <td>1.000000</td>\n",
              "      <td>-0.018476</td>\n",
              "    </tr>\n",
              "    <tr>\n",
              "      <th>rank_change_y</th>\n",
              "      <td>-0.003252</td>\n",
              "      <td>-0.002201</td>\n",
              "      <td>-0.077205</td>\n",
              "      <td>0.102108</td>\n",
              "      <td>-0.023410</td>\n",
              "      <td>-0.011533</td>\n",
              "      <td>-0.005525</td>\n",
              "      <td>0.052520</td>\n",
              "      <td>-0.087113</td>\n",
              "      <td>0.090050</td>\n",
              "      <td>-0.069071</td>\n",
              "      <td>0.004372</td>\n",
              "      <td>0.047977</td>\n",
              "      <td>0.036388</td>\n",
              "      <td>-0.018476</td>\n",
              "      <td>1.000000</td>\n",
              "    </tr>\n",
              "  </tbody>\n",
              "</table>\n",
              "</div>"
            ],
            "text/plain": [
              "                 home_team  away_team  ...  away_rank  rank_change_y\n",
              "home_team         1.000000   0.009999  ...   0.062434      -0.003252\n",
              "away_team         0.009999   1.000000  ...  -0.009888      -0.002201\n",
              "home_score        0.017875  -0.042943  ...   0.320022      -0.077205\n",
              "away_score       -0.033232   0.015813  ...  -0.180567       0.102108\n",
              "tournament       -0.046225  -0.036354  ...  -0.157283      -0.023410\n",
              "city             -0.084928  -0.030358  ...  -0.037492      -0.011533\n",
              "country           0.742702  -0.007139  ...   0.037898      -0.005525\n",
              "neutral          -0.049546   0.039845  ...   0.048054       0.052520\n",
              "status            0.011477  -0.019170  ...   0.213884      -0.087113\n",
              "tournament_type   0.003347  -0.006096  ...   0.068785       0.090050\n",
              "year              0.002747  -0.008390  ...   0.106097      -0.069071\n",
              "month             0.040741   0.023472  ...   0.030118       0.004372\n",
              "home_rank        -0.003722   0.049373  ...   0.469473       0.047977\n",
              "rank_change_x    -0.002395  -0.001672  ...   0.045357       0.036388\n",
              "away_rank         0.062434  -0.009888  ...   1.000000      -0.018476\n",
              "rank_change_y    -0.003252  -0.002201  ...  -0.018476       1.000000\n",
              "\n",
              "[16 rows x 16 columns]"
            ]
          },
          "metadata": {
            "tags": []
          },
          "execution_count": 64
        }
      ]
    },
    {
      "cell_type": "markdown",
      "metadata": {
        "id": "7qbJj_aCFEQf"
      },
      "source": [
        "The correlation matrix indicates that most variables are moderately or weakly correlated.*(both positively and negatively)\n",
        "\n",
        "This is very beneficial when creating a model, as collinear variables reduce the power of the model to identify independent \n",
        "variables that are statistically significant. \n",
        "\n",
        "We will use the correlation matrix to calculate the vif (Variance Inflation Factor).\n",
        "Variance inflation factor (VIF) is a measure of the amount of multicollinearity in a set of multiple regression variables. Mathematically, the VIF for a regression model variable is equal to the ratio of the overall model variance to the variance of a model that includes only that single independent variable. This ratio is calculated for each independent variable. A high VIF indicates that the associated independent variable is highly collinear with the other variables in the model.\n"
      ]
    },
    {
      "cell_type": "code",
      "metadata": {
        "id": "2cOFejwkMcIZ",
        "outputId": "71003218-0640-4479-ad62-09449febb0d7",
        "colab": {
          "base_uri": "https://localhost:8080/",
          "height": 559
        }
      },
      "source": [
        "# checking for multicollinearity\n",
        "# Using the variance Inflation Factor (VIF)\n",
        "# \n",
        "# This is calculated using linear algebra inverse function\n",
        "\n",
        "pd.DataFrame(np.linalg.inv(correlation.values), index = correlation.index, columns = correlation.columns)\n",
        "\n",
        "# From the correlation matrix below there are no correlated independent variables as all have VIF below 5, which is the threshold"
      ],
      "execution_count": 65,
      "outputs": [
        {
          "output_type": "execute_result",
          "data": {
            "text/html": [
              "<div>\n",
              "<style scoped>\n",
              "    .dataframe tbody tr th:only-of-type {\n",
              "        vertical-align: middle;\n",
              "    }\n",
              "\n",
              "    .dataframe tbody tr th {\n",
              "        vertical-align: top;\n",
              "    }\n",
              "\n",
              "    .dataframe thead th {\n",
              "        text-align: right;\n",
              "    }\n",
              "</style>\n",
              "<table border=\"1\" class=\"dataframe\">\n",
              "  <thead>\n",
              "    <tr style=\"text-align: right;\">\n",
              "      <th></th>\n",
              "      <th>home_team</th>\n",
              "      <th>away_team</th>\n",
              "      <th>home_score</th>\n",
              "      <th>away_score</th>\n",
              "      <th>tournament</th>\n",
              "      <th>city</th>\n",
              "      <th>country</th>\n",
              "      <th>neutral</th>\n",
              "      <th>status</th>\n",
              "      <th>tournament_type</th>\n",
              "      <th>year</th>\n",
              "      <th>month</th>\n",
              "      <th>home_rank</th>\n",
              "      <th>rank_change_x</th>\n",
              "      <th>away_rank</th>\n",
              "      <th>rank_change_y</th>\n",
              "    </tr>\n",
              "  </thead>\n",
              "  <tbody>\n",
              "    <tr>\n",
              "      <th>home_team</th>\n",
              "      <td>2.380019</td>\n",
              "      <td>-0.054073</td>\n",
              "      <td>-0.003485</td>\n",
              "      <td>0.013910</td>\n",
              "      <td>0.019658</td>\n",
              "      <td>0.024658</td>\n",
              "      <td>-1.818218</td>\n",
              "      <td>0.394409</td>\n",
              "      <td>0.009617</td>\n",
              "      <td>-0.081914</td>\n",
              "      <td>-0.043613</td>\n",
              "      <td>0.000140</td>\n",
              "      <td>0.020260</td>\n",
              "      <td>-0.017174</td>\n",
              "      <td>-0.092450</td>\n",
              "      <td>-0.020939</td>\n",
              "    </tr>\n",
              "    <tr>\n",
              "      <th>away_team</th>\n",
              "      <td>-0.054073</td>\n",
              "      <td>1.010738</td>\n",
              "      <td>0.029113</td>\n",
              "      <td>0.010158</td>\n",
              "      <td>0.033186</td>\n",
              "      <td>0.028172</td>\n",
              "      <td>0.058604</td>\n",
              "      <td>-0.054657</td>\n",
              "      <td>-0.011258</td>\n",
              "      <td>0.017981</td>\n",
              "      <td>0.017312</td>\n",
              "      <td>-0.033946</td>\n",
              "      <td>-0.064013</td>\n",
              "      <td>0.003710</td>\n",
              "      <td>0.042995</td>\n",
              "      <td>0.010030</td>\n",
              "    </tr>\n",
              "    <tr>\n",
              "      <th>home_score</th>\n",
              "      <td>-0.003485</td>\n",
              "      <td>0.029113</td>\n",
              "      <td>1.598481</td>\n",
              "      <td>-0.118212</td>\n",
              "      <td>0.001222</td>\n",
              "      <td>0.017757</td>\n",
              "      <td>0.029563</td>\n",
              "      <td>0.056150</td>\n",
              "      <td>-0.669478</td>\n",
              "      <td>-0.039776</td>\n",
              "      <td>0.063596</td>\n",
              "      <td>-0.004601</td>\n",
              "      <td>0.438909</td>\n",
              "      <td>-0.047179</td>\n",
              "      <td>-0.598982</td>\n",
              "      <td>0.052249</td>\n",
              "    </tr>\n",
              "    <tr>\n",
              "      <th>away_score</th>\n",
              "      <td>0.013910</td>\n",
              "      <td>0.010158</td>\n",
              "      <td>-0.118212</td>\n",
              "      <td>1.242799</td>\n",
              "      <td>-0.039814</td>\n",
              "      <td>-0.011516</td>\n",
              "      <td>-0.012775</td>\n",
              "      <td>-0.124001</td>\n",
              "      <td>0.194511</td>\n",
              "      <td>-0.024936</td>\n",
              "      <td>0.014762</td>\n",
              "      <td>-0.031848</td>\n",
              "      <td>-0.470786</td>\n",
              "      <td>0.089707</td>\n",
              "      <td>0.436146</td>\n",
              "      <td>-0.082852</td>\n",
              "    </tr>\n",
              "    <tr>\n",
              "      <th>tournament</th>\n",
              "      <td>0.019658</td>\n",
              "      <td>0.033186</td>\n",
              "      <td>0.001222</td>\n",
              "      <td>-0.039814</td>\n",
              "      <td>1.061838</td>\n",
              "      <td>-0.065324</td>\n",
              "      <td>0.031687</td>\n",
              "      <td>0.058022</td>\n",
              "      <td>-0.011801</td>\n",
              "      <td>-0.002518</td>\n",
              "      <td>0.045017</td>\n",
              "      <td>-0.098139</td>\n",
              "      <td>0.109513</td>\n",
              "      <td>0.062285</td>\n",
              "      <td>0.099147</td>\n",
              "      <td>0.022577</td>\n",
              "    </tr>\n",
              "    <tr>\n",
              "      <th>city</th>\n",
              "      <td>0.024658</td>\n",
              "      <td>0.028172</td>\n",
              "      <td>0.017757</td>\n",
              "      <td>-0.011516</td>\n",
              "      <td>-0.065324</td>\n",
              "      <td>1.019144</td>\n",
              "      <td>0.077702</td>\n",
              "      <td>0.023079</td>\n",
              "      <td>-0.027539</td>\n",
              "      <td>-0.006740</td>\n",
              "      <td>-0.031298</td>\n",
              "      <td>0.006765</td>\n",
              "      <td>0.000035</td>\n",
              "      <td>0.004287</td>\n",
              "      <td>0.024274</td>\n",
              "      <td>0.008439</td>\n",
              "    </tr>\n",
              "    <tr>\n",
              "      <th>country</th>\n",
              "      <td>-1.818218</td>\n",
              "      <td>0.058604</td>\n",
              "      <td>0.029563</td>\n",
              "      <td>-0.012775</td>\n",
              "      <td>0.031687</td>\n",
              "      <td>0.077702</td>\n",
              "      <td>2.428923</td>\n",
              "      <td>-0.451141</td>\n",
              "      <td>-0.004716</td>\n",
              "      <td>0.102085</td>\n",
              "      <td>0.058170</td>\n",
              "      <td>-0.051127</td>\n",
              "      <td>0.046124</td>\n",
              "      <td>0.034661</td>\n",
              "      <td>0.006498</td>\n",
              "      <td>0.027839</td>\n",
              "    </tr>\n",
              "    <tr>\n",
              "      <th>neutral</th>\n",
              "      <td>0.394409</td>\n",
              "      <td>-0.054657</td>\n",
              "      <td>0.056150</td>\n",
              "      <td>-0.124001</td>\n",
              "      <td>0.058022</td>\n",
              "      <td>0.023079</td>\n",
              "      <td>-0.451141</td>\n",
              "      <td>1.148833</td>\n",
              "      <td>0.022180</td>\n",
              "      <td>-0.162179</td>\n",
              "      <td>-0.054265</td>\n",
              "      <td>0.134600</td>\n",
              "      <td>0.069521</td>\n",
              "      <td>-0.029516</td>\n",
              "      <td>-0.117479</td>\n",
              "      <td>-0.035278</td>\n",
              "    </tr>\n",
              "    <tr>\n",
              "      <th>status</th>\n",
              "      <td>0.009617</td>\n",
              "      <td>-0.011258</td>\n",
              "      <td>-0.669478</td>\n",
              "      <td>0.194511</td>\n",
              "      <td>-0.011801</td>\n",
              "      <td>-0.027539</td>\n",
              "      <td>-0.004716</td>\n",
              "      <td>0.022180</td>\n",
              "      <td>1.438676</td>\n",
              "      <td>-0.039149</td>\n",
              "      <td>0.002531</td>\n",
              "      <td>0.003875</td>\n",
              "      <td>0.071644</td>\n",
              "      <td>-0.067822</td>\n",
              "      <td>-0.090098</td>\n",
              "      <td>0.053049</td>\n",
              "    </tr>\n",
              "    <tr>\n",
              "      <th>tournament_type</th>\n",
              "      <td>-0.081914</td>\n",
              "      <td>0.017981</td>\n",
              "      <td>-0.039776</td>\n",
              "      <td>-0.024936</td>\n",
              "      <td>-0.002518</td>\n",
              "      <td>-0.006740</td>\n",
              "      <td>0.102085</td>\n",
              "      <td>-0.162179</td>\n",
              "      <td>-0.039149</td>\n",
              "      <td>1.064645</td>\n",
              "      <td>0.024599</td>\n",
              "      <td>-0.139668</td>\n",
              "      <td>-0.057572</td>\n",
              "      <td>-0.077576</td>\n",
              "      <td>-0.017462</td>\n",
              "      <td>-0.083516</td>\n",
              "    </tr>\n",
              "    <tr>\n",
              "      <th>year</th>\n",
              "      <td>-0.043613</td>\n",
              "      <td>0.017312</td>\n",
              "      <td>0.063596</td>\n",
              "      <td>0.014762</td>\n",
              "      <td>0.045017</td>\n",
              "      <td>-0.031298</td>\n",
              "      <td>0.058170</td>\n",
              "      <td>-0.054265</td>\n",
              "      <td>0.002531</td>\n",
              "      <td>0.024599</td>\n",
              "      <td>1.034793</td>\n",
              "      <td>-0.010434</td>\n",
              "      <td>-0.054070</td>\n",
              "      <td>0.062892</td>\n",
              "      <td>-0.096269</td>\n",
              "      <td>0.075215</td>\n",
              "    </tr>\n",
              "    <tr>\n",
              "      <th>month</th>\n",
              "      <td>0.000140</td>\n",
              "      <td>-0.033946</td>\n",
              "      <td>-0.004601</td>\n",
              "      <td>-0.031848</td>\n",
              "      <td>-0.098139</td>\n",
              "      <td>0.006765</td>\n",
              "      <td>-0.051127</td>\n",
              "      <td>0.134600</td>\n",
              "      <td>0.003875</td>\n",
              "      <td>-0.139668</td>\n",
              "      <td>-0.010434</td>\n",
              "      <td>1.045380</td>\n",
              "      <td>-0.013596</td>\n",
              "      <td>-0.035917</td>\n",
              "      <td>-0.037883</td>\n",
              "      <td>0.002134</td>\n",
              "    </tr>\n",
              "    <tr>\n",
              "      <th>home_rank</th>\n",
              "      <td>0.020260</td>\n",
              "      <td>-0.064013</td>\n",
              "      <td>0.438909</td>\n",
              "      <td>-0.470786</td>\n",
              "      <td>0.109513</td>\n",
              "      <td>0.000035</td>\n",
              "      <td>0.046124</td>\n",
              "      <td>0.069521</td>\n",
              "      <td>0.071644</td>\n",
              "      <td>-0.057572</td>\n",
              "      <td>-0.054070</td>\n",
              "      <td>-0.013596</td>\n",
              "      <td>1.671565</td>\n",
              "      <td>-0.033926</td>\n",
              "      <td>-1.003823</td>\n",
              "      <td>-0.008710</td>\n",
              "    </tr>\n",
              "    <tr>\n",
              "      <th>rank_change_x</th>\n",
              "      <td>-0.017174</td>\n",
              "      <td>0.003710</td>\n",
              "      <td>-0.047179</td>\n",
              "      <td>0.089707</td>\n",
              "      <td>0.062285</td>\n",
              "      <td>0.004287</td>\n",
              "      <td>0.034661</td>\n",
              "      <td>-0.029516</td>\n",
              "      <td>-0.067822</td>\n",
              "      <td>-0.077576</td>\n",
              "      <td>0.062892</td>\n",
              "      <td>-0.035917</td>\n",
              "      <td>-0.033926</td>\n",
              "      <td>1.036527</td>\n",
              "      <td>0.024900</td>\n",
              "      <td>-0.039651</td>\n",
              "    </tr>\n",
              "    <tr>\n",
              "      <th>away_rank</th>\n",
              "      <td>-0.092450</td>\n",
              "      <td>0.042995</td>\n",
              "      <td>-0.598982</td>\n",
              "      <td>0.436146</td>\n",
              "      <td>0.099147</td>\n",
              "      <td>0.024274</td>\n",
              "      <td>0.006498</td>\n",
              "      <td>-0.117479</td>\n",
              "      <td>-0.090098</td>\n",
              "      <td>-0.017462</td>\n",
              "      <td>-0.096269</td>\n",
              "      <td>-0.037883</td>\n",
              "      <td>-1.003823</td>\n",
              "      <td>0.024900</td>\n",
              "      <td>1.800239</td>\n",
              "      <td>-0.014421</td>\n",
              "    </tr>\n",
              "    <tr>\n",
              "      <th>rank_change_y</th>\n",
              "      <td>-0.020939</td>\n",
              "      <td>0.010030</td>\n",
              "      <td>0.052249</td>\n",
              "      <td>-0.082852</td>\n",
              "      <td>0.022577</td>\n",
              "      <td>0.008439</td>\n",
              "      <td>0.027839</td>\n",
              "      <td>-0.035278</td>\n",
              "      <td>0.053049</td>\n",
              "      <td>-0.083516</td>\n",
              "      <td>0.075215</td>\n",
              "      <td>0.002134</td>\n",
              "      <td>-0.008710</td>\n",
              "      <td>-0.039651</td>\n",
              "      <td>-0.014421</td>\n",
              "      <td>1.034002</td>\n",
              "    </tr>\n",
              "  </tbody>\n",
              "</table>\n",
              "</div>"
            ],
            "text/plain": [
              "                 home_team  away_team  ...  away_rank  rank_change_y\n",
              "home_team         2.380019  -0.054073  ...  -0.092450      -0.020939\n",
              "away_team        -0.054073   1.010738  ...   0.042995       0.010030\n",
              "home_score       -0.003485   0.029113  ...  -0.598982       0.052249\n",
              "away_score        0.013910   0.010158  ...   0.436146      -0.082852\n",
              "tournament        0.019658   0.033186  ...   0.099147       0.022577\n",
              "city              0.024658   0.028172  ...   0.024274       0.008439\n",
              "country          -1.818218   0.058604  ...   0.006498       0.027839\n",
              "neutral           0.394409  -0.054657  ...  -0.117479      -0.035278\n",
              "status            0.009617  -0.011258  ...  -0.090098       0.053049\n",
              "tournament_type  -0.081914   0.017981  ...  -0.017462      -0.083516\n",
              "year             -0.043613   0.017312  ...  -0.096269       0.075215\n",
              "month             0.000140  -0.033946  ...  -0.037883       0.002134\n",
              "home_rank         0.020260  -0.064013  ...  -1.003823      -0.008710\n",
              "rank_change_x    -0.017174   0.003710  ...   0.024900      -0.039651\n",
              "away_rank        -0.092450   0.042995  ...   1.800239      -0.014421\n",
              "rank_change_y    -0.020939   0.010030  ...  -0.014421       1.034002\n",
              "\n",
              "[16 rows x 16 columns]"
            ]
          },
          "metadata": {
            "tags": []
          },
          "execution_count": 65
        }
      ]
    },
    {
      "cell_type": "markdown",
      "metadata": {
        "id": "tRGDvSKnHiu6"
      },
      "source": [
        "We check VIFs along the diagonal.\n",
        "\n",
        "VIFs Values greater than 5 indicate that the presence of multicollinearity.\n",
        "\n",
        "If present we remove the variable with the greatest VIF value.\n",
        "\n",
        "Typically, a VIF value around 5 is a potential problem, and value around 10 is considered seriously problematic and suggests that the related variable should be dropped from the model.\n",
        "\n",
        "From the correlation matrix there are no correlated independent variables as all have VIF values are below 5, which is the threshold and therefore no variable will be dropped in this project"
      ]
    },
    {
      "cell_type": "markdown",
      "metadata": {
        "id": "zKd8cdlTMgNw"
      },
      "source": [
        "# 8 Building a Model"
      ]
    },
    {
      "cell_type": "markdown",
      "metadata": {
        "id": "KnM1vinqS3aV"
      },
      "source": [
        "## 8.1 Polynomial Regression Model"
      ]
    },
    {
      "cell_type": "code",
      "metadata": {
        "id": "-xy3JU150U_v"
      },
      "source": [
        "# Approach 1: Polynomial approach\n",
        "\n",
        "# What to train given:\n",
        "\n",
        "# Rank of home team\n",
        "# Rank of away team\n",
        "# Tournament type\n",
        "\n",
        "# Model 1: Predict how many goals the home team scores\n",
        "\n",
        "# Model 2: Predict how many goals the away team scores"
      ],
      "execution_count": null,
      "outputs": []
    },
    {
      "cell_type": "markdown",
      "metadata": {
        "id": "bO3cFM0LJIUh"
      },
      "source": [
        "### Model 1\n",
        "\n",
        "Predict how many goals the home team scores"
      ]
    },
    {
      "cell_type": "code",
      "metadata": {
        "id": "K9HguHrd1Kle",
        "outputId": "c628db2e-424a-41f4-dc7b-4624be499ec0",
        "colab": {
          "base_uri": "https://localhost:8080/",
          "height": 130
        }
      },
      "source": [
        "# Viewing our dataset before splitting \n",
        "\n",
        "Fiifa.head(2)"
      ],
      "execution_count": 66,
      "outputs": [
        {
          "output_type": "execute_result",
          "data": {
            "text/html": [
              "<div>\n",
              "<style scoped>\n",
              "    .dataframe tbody tr th:only-of-type {\n",
              "        vertical-align: middle;\n",
              "    }\n",
              "\n",
              "    .dataframe tbody tr th {\n",
              "        vertical-align: top;\n",
              "    }\n",
              "\n",
              "    .dataframe thead th {\n",
              "        text-align: right;\n",
              "    }\n",
              "</style>\n",
              "<table border=\"1\" class=\"dataframe\">\n",
              "  <thead>\n",
              "    <tr style=\"text-align: right;\">\n",
              "      <th></th>\n",
              "      <th>home_team</th>\n",
              "      <th>away_team</th>\n",
              "      <th>home_score</th>\n",
              "      <th>away_score</th>\n",
              "      <th>tournament</th>\n",
              "      <th>city</th>\n",
              "      <th>country</th>\n",
              "      <th>neutral</th>\n",
              "      <th>status</th>\n",
              "      <th>tournament_type</th>\n",
              "      <th>year</th>\n",
              "      <th>month</th>\n",
              "      <th>home_rank</th>\n",
              "      <th>rank_change_x</th>\n",
              "      <th>away_rank</th>\n",
              "      <th>rank_change_y</th>\n",
              "    </tr>\n",
              "  </thead>\n",
              "  <tbody>\n",
              "    <tr>\n",
              "      <th>17910</th>\n",
              "      <td>41</td>\n",
              "      <td>137</td>\n",
              "      <td>0</td>\n",
              "      <td>0</td>\n",
              "      <td>26</td>\n",
              "      <td>119</td>\n",
              "      <td>42</td>\n",
              "      <td>0</td>\n",
              "      <td>0</td>\n",
              "      <td>1</td>\n",
              "      <td>0</td>\n",
              "      <td>7</td>\n",
              "      <td>18</td>\n",
              "      <td>55</td>\n",
              "      <td>66</td>\n",
              "      <td>45</td>\n",
              "    </tr>\n",
              "    <tr>\n",
              "      <th>17911</th>\n",
              "      <td>138</td>\n",
              "      <td>8</td>\n",
              "      <td>0</td>\n",
              "      <td>1</td>\n",
              "      <td>26</td>\n",
              "      <td>636</td>\n",
              "      <td>148</td>\n",
              "      <td>0</td>\n",
              "      <td>1</td>\n",
              "      <td>1</td>\n",
              "      <td>0</td>\n",
              "      <td>7</td>\n",
              "      <td>69</td>\n",
              "      <td>47</td>\n",
              "      <td>4</td>\n",
              "      <td>49</td>\n",
              "    </tr>\n",
              "  </tbody>\n",
              "</table>\n",
              "</div>"
            ],
            "text/plain": [
              "       home_team  away_team  ...  away_rank  rank_change_y\n",
              "17910         41        137  ...         66             45\n",
              "17911        138          8  ...          4             49\n",
              "\n",
              "[2 rows x 16 columns]"
            ]
          },
          "metadata": {
            "tags": []
          },
          "execution_count": 66
        }
      ]
    },
    {
      "cell_type": "code",
      "metadata": {
        "id": "GgvltokP0U82"
      },
      "source": [
        "# Model 1\n",
        "# Predict how many goals the home team scores given home rank\n",
        "\n",
        "X = Fiifa['home_rank'].values.reshape(-1, 1)\n",
        "y = Fiifa['home_score'].values.reshape(-1, 1)\n",
        "\n",
        "\n"
      ],
      "execution_count": 67,
      "outputs": []
    },
    {
      "cell_type": "code",
      "metadata": {
        "id": "I8b05Gp60c1Z",
        "outputId": "18fddea9-0289-48b0-c335-0a6be146c471",
        "colab": {
          "base_uri": "https://localhost:8080/",
          "height": 295
        }
      },
      "source": [
        "# showing relationship between home rank and home score\n",
        "\n",
        "plt.scatter(X,y) \n",
        "plt.title('Home team performance', color = 'red')\n",
        "plt.xlabel('homerank')\n",
        "plt.ylabel('home score')\n",
        "plt.show()\n"
      ],
      "execution_count": 68,
      "outputs": [
        {
          "output_type": "display_data",
          "data": {
            "image/png": "[encoded data removed]",
            "text/plain": [
              "<Figure size 432x288 with 1 Axes>"
            ]
          },
          "metadata": {
            "tags": [],
            "needs_background": "light"
          }
        }
      ]
    },
    {
      "cell_type": "markdown",
      "metadata": {
        "id": "d05Ncv0cJdDF"
      },
      "source": [
        "There are more points on the lower side of the scatter plot.\n",
        "  home team scores are mostly  between 0 and 5 goals."
      ]
    },
    {
      "cell_type": "code",
      "metadata": {
        "id": "MzYYEOl6qRhj",
        "outputId": "87860350-6436-413d-b4dd-4a9054ad9d5f",
        "colab": {
          "base_uri": "https://localhost:8080/"
        }
      },
      "source": [
        "X.shape"
      ],
      "execution_count": 69,
      "outputs": [
        {
          "output_type": "execute_result",
          "data": {
            "text/plain": [
              "(16889, 1)"
            ]
          },
          "metadata": {
            "tags": []
          },
          "execution_count": 69
        }
      ]
    },
    {
      "cell_type": "code",
      "metadata": {
        "id": "4DAniykeqROx",
        "outputId": "94917b32-85db-4bb7-b611-dab35ebee3db",
        "colab": {
          "base_uri": "https://localhost:8080/"
        }
      },
      "source": [
        "y.shape"
      ],
      "execution_count": 70,
      "outputs": [
        {
          "output_type": "execute_result",
          "data": {
            "text/plain": [
              "(16889, 1)"
            ]
          },
          "metadata": {
            "tags": []
          },
          "execution_count": 70
        }
      ]
    },
    {
      "cell_type": "code",
      "metadata": {
        "id": "sJ3eIPNl0cyH"
      },
      "source": [
        "# Split the dataset into train and test sets\n",
        "# this means training data is 80% while test size is 20%\n",
        "\n",
        "X_train, X_test, y_train, y_test = train_test_split(X,y, test_size = 0.2, random_state=2)\n"
      ],
      "execution_count": 71,
      "outputs": []
    },
    {
      "cell_type": "code",
      "metadata": {
        "id": "0ejsXrjB49vC"
      },
      "source": [
        "# Fitting the polynomial features to the X the independent variable\n",
        "\n",
        "\n",
        "poly_reg = PolynomialFeatures(degree =4)\n",
        "X_poly = poly_reg.fit_transform(X)\n"
      ],
      "execution_count": 120,
      "outputs": []
    },
    {
      "cell_type": "code",
      "metadata": {
        "id": "Dn4cK4xy49ry",
        "outputId": "c9e39946-1b97-40ad-d94a-04460bf9f85a",
        "colab": {
          "base_uri": "https://localhost:8080/"
        }
      },
      "source": [
        "# Fitting a polynomial Regression to the dataset.\n",
        "\n",
        "pol_reg = LinearRegression()\n",
        "pol_reg.fit(X_poly, y)"
      ],
      "execution_count": 121,
      "outputs": [
        {
          "output_type": "execute_result",
          "data": {
            "text/plain": [
              "LinearRegression(copy_X=True, fit_intercept=True, n_jobs=None, normalize=False)"
            ]
          },
          "metadata": {
            "tags": []
          },
          "execution_count": 121
        }
      ]
    },
    {
      "cell_type": "code",
      "metadata": {
        "id": "mi5uyVD362nC",
        "outputId": "f0666924-78e6-4b1f-c18e-1af4358aa5ba",
        "colab": {
          "base_uri": "https://localhost:8080/",
          "height": 295
        }
      },
      "source": [
        "# Visualizing the polynomial Regression results\n",
        "\n",
        "plt.scatter(X, y, color='blue') \n",
        "plt.plot(X, pol_reg.predict(X_poly),color='red')\n",
        "plt.title('home score prediction')\n",
        "plt.xlabel('home rank')\n",
        "plt.ylabel('home score')\n",
        "plt.show()\n"
      ],
      "execution_count": 122,
      "outputs": [
        {
          "output_type": "display_data",
          "data": {
            "image/png": "[encoded data removed]",
            "text/plain": [
              "<Figure size 432x288 with 1 Axes>"
            ]
          },
          "metadata": {
            "tags": [],
            "needs_background": "light"
          }
        }
      ]
    },
    {
      "cell_type": "markdown",
      "metadata": {
        "id": "KxKrTq2RLgUL"
      },
      "source": [
        "\n",
        "Using the polynomial regression model of degree 4,\n",
        "\n",
        "most data points have  been  omitted\n",
        "the visualization as appears  makes it difficult to analyze and makes use of this model difficult to use for predictions"
      ]
    },
    {
      "cell_type": "code",
      "metadata": {
        "id": "NzFbxKzi62je",
        "outputId": "48757c16-7647-4891-fe88-fdb3f8e07005",
        "colab": {
          "base_uri": "https://localhost:8080/"
        }
      },
      "source": [
        "# Making predictions using our model\n",
        "\n",
        "poly_pred = pol_reg.predict(poly_reg.fit_transform([[20]]))\n",
        "print('Polynomial prediction when home rank is 20 the home team score is: %d' %poly_pred)"
      ],
      "execution_count": 123,
      "outputs": [
        {
          "output_type": "stream",
          "text": [
            "Polynomial prediction when home rank is 20 the home team score is: 1\n"
          ],
          "name": "stdout"
        }
      ]
    },
    {
      "cell_type": "markdown",
      "metadata": {
        "id": "44QFXeJvSL6l"
      },
      "source": [
        "### Model 2 \n",
        "\n",
        "Predict how many goals the away team scores\n",
        "\n"
      ]
    },
    {
      "cell_type": "code",
      "metadata": {
        "id": "ICrAyuqQTsdO"
      },
      "source": [
        "# Model 2: Predict how many goals the away team scores given the away team rank\n",
        "\n",
        "#\n",
        "X = Fiifa['away_rank'].values.reshape(-1, 1)\n",
        "\n",
        "y = Fiifa['away_score'].values.reshape(-1, 1)\n",
        "\n"
      ],
      "execution_count": 113,
      "outputs": []
    },
    {
      "cell_type": "code",
      "metadata": {
        "id": "sPy4zAZcTsaL",
        "outputId": "ad1b8208-e53d-4e11-8e21-df9857cf6c66",
        "colab": {
          "base_uri": "https://localhost:8080/",
          "height": 295
        }
      },
      "source": [
        "# Visualizing the dependent vs independent variable using a scatter plot\n",
        "\n",
        "plt.scatter(X,y) \n",
        "plt.title('away team performance', color = 'red')\n",
        "plt.xlabel('away rank')\n",
        "plt.ylabel('away score')\n",
        "plt.show()\n"
      ],
      "execution_count": 114,
      "outputs": [
        {
          "output_type": "display_data",
          "data": {
            "image/png": "[encoded data removed]",
            "text/plain": [
              "<Figure size 432x288 with 1 Axes>"
            ]
          },
          "metadata": {
            "tags": [],
            "needs_background": "light"
          }
        }
      ]
    },
    {
      "cell_type": "markdown",
      "metadata": {
        "id": "uFb0YrX905lh"
      },
      "source": [
        "\n",
        "most cases the away team scores between 0 and 4 goals."
      ]
    },
    {
      "cell_type": "code",
      "metadata": {
        "id": "s7erOmy1TsXF"
      },
      "source": [
        "## Split the dataset into train and test sets\n",
        "\n",
        "X_train, X_test, y_train, y_test = train_test_split(X,y, test_size = 0.2, random_state=0)"
      ],
      "execution_count": 115,
      "outputs": []
    },
    {
      "cell_type": "code",
      "metadata": {
        "id": "dPiSaUQ5TsT1"
      },
      "source": [
        "# Fitting the polynomial features to the X\n",
        "\n",
        "poly_reg = PolynomialFeatures(degree = 4)\n",
        "X_poly = poly_reg.fit_transform(X)"
      ],
      "execution_count": 116,
      "outputs": []
    },
    {
      "cell_type": "code",
      "metadata": {
        "id": "rWxogUxyTsQu",
        "outputId": "645eb890-5da4-4609-b604-4e124c83c281",
        "colab": {
          "base_uri": "https://localhost:8080/"
        }
      },
      "source": [
        "# Fitting a polynomial Regression to the dataset\n",
        "\n",
        "pol_reg = LinearRegression()\n",
        "pol_reg.fit(X_poly, y)"
      ],
      "execution_count": 117,
      "outputs": [
        {
          "output_type": "execute_result",
          "data": {
            "text/plain": [
              "LinearRegression(copy_X=True, fit_intercept=True, n_jobs=None, normalize=False)"
            ]
          },
          "metadata": {
            "tags": []
          },
          "execution_count": 117
        }
      ]
    },
    {
      "cell_type": "code",
      "metadata": {
        "id": "IMejuCmHTsNZ",
        "outputId": "5678abb7-1045-4ebf-cdc6-7b170784cc05",
        "colab": {
          "base_uri": "https://localhost:8080/",
          "height": 295
        }
      },
      "source": [
        " # Visualizing the polynomial Regression results using a scatter plot\n",
        "\n",
        "plt.scatter(X, y, color='blue') \n",
        "plt.plot(X, pol_reg.predict(X_poly),color='red')\n",
        "plt.title('away team prediction')\n",
        "plt.xlabel('away rank')\n",
        "plt.ylabel('away score')\n",
        "plt.show()\n"
      ],
      "execution_count": 118,
      "outputs": [
        {
          "output_type": "display_data",
          "data": {
            "image/png": "[encoded data removed]",
            "text/plain": [
              "<Figure size 432x288 with 1 Axes>"
            ]
          },
          "metadata": {
            "tags": [],
            "needs_background": "light"
          }
        }
      ]
    },
    {
      "cell_type": "markdown",
      "metadata": {
        "id": "tcN2QtUH1Lyz"
      },
      "source": [
        "Using the polynomial regression model of degree 4,\n",
        "most data points have not been highlighted\n",
        "This is underfitting.\n",
        "The polynomial regression is not a good model to predict how many goals the away team scores given the away team rank."
      ]
    },
    {
      "cell_type": "code",
      "metadata": {
        "id": "kPI7KjlrVpsH",
        "outputId": "45b45afd-0684-4f98-ea52-1c11fce6c9bf",
        "colab": {
          "base_uri": "https://localhost:8080/"
        }
      },
      "source": [
        "# Making predictions using our model\n",
        "\n",
        "poly_pred = pol_reg.predict(poly_reg.fit_transform([[58]]))\n",
        "print('Polynomial prediction when home away rank is 58 the away team score is: %d' %poly_pred)"
      ],
      "execution_count": 111,
      "outputs": [
        {
          "output_type": "stream",
          "text": [
            "Polynomial prediction when home away rank is 58 the away team score is: 1\n"
          ],
          "name": "stdout"
        }
      ]
    },
    {
      "cell_type": "markdown",
      "metadata": {
        "id": "Q43NBsK_TcaF"
      },
      "source": [
        "## 8.2 Logistic Regression Model\n",
        "\n",
        "- Logistic regression is a predictive analysis. \n",
        "\n",
        "- Logistic regression is used to describe data and to explain the relationship between one dependent binary variable and one or more nominal, ordinal, interval or ratio-level independent variables.\n",
        "- Logistic Regression is used when the dependent variable(target) is categorical.\n",
        "- In this model, we will be predicting whether the home team (Wins, Losses or Draws) in a match.\n"
      ]
    },
    {
      "cell_type": "code",
      "metadata": {
        "id": "MZwFVOFTWfGO",
        "outputId": "d095b721-c4e2-4fa2-9fc6-7110c69330ac",
        "colab": {
          "base_uri": "https://localhost:8080/",
          "height": 130
        }
      },
      "source": [
        "# Viewing the first two observations before splittig our dataset\n",
        "\n",
        "Fiifa.head(2)"
      ],
      "execution_count": 90,
      "outputs": [
        {
          "output_type": "execute_result",
          "data": {
            "text/html": [
              "<div>\n",
              "<style scoped>\n",
              "    .dataframe tbody tr th:only-of-type {\n",
              "        vertical-align: middle;\n",
              "    }\n",
              "\n",
              "    .dataframe tbody tr th {\n",
              "        vertical-align: top;\n",
              "    }\n",
              "\n",
              "    .dataframe thead th {\n",
              "        text-align: right;\n",
              "    }\n",
              "</style>\n",
              "<table border=\"1\" class=\"dataframe\">\n",
              "  <thead>\n",
              "    <tr style=\"text-align: right;\">\n",
              "      <th></th>\n",
              "      <th>home_team</th>\n",
              "      <th>away_team</th>\n",
              "      <th>home_score</th>\n",
              "      <th>away_score</th>\n",
              "      <th>tournament</th>\n",
              "      <th>city</th>\n",
              "      <th>country</th>\n",
              "      <th>neutral</th>\n",
              "      <th>status</th>\n",
              "      <th>tournament_type</th>\n",
              "      <th>year</th>\n",
              "      <th>month</th>\n",
              "      <th>home_rank</th>\n",
              "      <th>rank_change_x</th>\n",
              "      <th>away_rank</th>\n",
              "      <th>rank_change_y</th>\n",
              "    </tr>\n",
              "  </thead>\n",
              "  <tbody>\n",
              "    <tr>\n",
              "      <th>17910</th>\n",
              "      <td>41</td>\n",
              "      <td>137</td>\n",
              "      <td>0</td>\n",
              "      <td>0</td>\n",
              "      <td>26</td>\n",
              "      <td>119</td>\n",
              "      <td>42</td>\n",
              "      <td>0</td>\n",
              "      <td>0</td>\n",
              "      <td>1</td>\n",
              "      <td>0</td>\n",
              "      <td>7</td>\n",
              "      <td>18</td>\n",
              "      <td>55</td>\n",
              "      <td>66</td>\n",
              "      <td>45</td>\n",
              "    </tr>\n",
              "    <tr>\n",
              "      <th>17911</th>\n",
              "      <td>138</td>\n",
              "      <td>8</td>\n",
              "      <td>0</td>\n",
              "      <td>1</td>\n",
              "      <td>26</td>\n",
              "      <td>636</td>\n",
              "      <td>148</td>\n",
              "      <td>0</td>\n",
              "      <td>1</td>\n",
              "      <td>1</td>\n",
              "      <td>0</td>\n",
              "      <td>7</td>\n",
              "      <td>69</td>\n",
              "      <td>47</td>\n",
              "      <td>4</td>\n",
              "      <td>49</td>\n",
              "    </tr>\n",
              "  </tbody>\n",
              "</table>\n",
              "</div>"
            ],
            "text/plain": [
              "       home_team  away_team  ...  away_rank  rank_change_y\n",
              "17910         41        137  ...         66             45\n",
              "17911        138          8  ...          4             49\n",
              "\n",
              "[2 rows x 16 columns]"
            ]
          },
          "metadata": {
            "tags": []
          },
          "execution_count": 90
        }
      ]
    },
    {
      "cell_type": "code",
      "metadata": {
        "id": "qSASSfbZWfCT"
      },
      "source": [
        "# Splitting our dataset\n",
        "# X: independent variables\n",
        "# y: dependent variable\n",
        "\n",
        "# Splitting the data into train and test sets\n",
        "\n",
        "X = Fiifa.drop(['status'], axis = 1)\n",
        "y = Fiifa.status\n",
        "\n",
        "\n",
        "X_train, X_test, y_train, y_test = train_test_split(X, y, test_size = .2, random_state=0)"
      ],
      "execution_count": 91,
      "outputs": []
    },
    {
      "cell_type": "code",
      "metadata": {
        "id": "SqPbsNqpMtdd",
        "outputId": "257d6728-5234-445b-e6c6-e4dbcb4e215a",
        "colab": {
          "base_uri": "https://localhost:8080/"
        }
      },
      "source": [
        "# Fitting our model to our train sets\n",
        "# Logistic Regression model in this case\n",
        "# \n",
        "\n",
        "LogReg = LogisticRegression()\n",
        "LogReg.fit(X_train, y_train)"
      ],
      "execution_count": 92,
      "outputs": [
        {
          "output_type": "stream",
          "text": [
            "/usr/local/lib/python3.6/dist-packages/sklearn/linear_model/_logistic.py:940: ConvergenceWarning: lbfgs failed to converge (status=1):\n",
            "STOP: TOTAL NO. of ITERATIONS REACHED LIMIT.\n",
            "\n",
            "Increase the number of iterations (max_iter) or scale the data as shown in:\n",
            "    https://scikit-learn.org/stable/modules/preprocessing.html\n",
            "Please also refer to the documentation for alternative solver options:\n",
            "    https://scikit-learn.org/stable/modules/linear_model.html#logistic-regression\n",
            "  extra_warning_msg=_LOGISTIC_SOLVER_CONVERGENCE_MSG)\n"
          ],
          "name": "stderr"
        },
        {
          "output_type": "execute_result",
          "data": {
            "text/plain": [
              "LogisticRegression(C=1.0, class_weight=None, dual=False, fit_intercept=True,\n",
              "                   intercept_scaling=1, l1_ratio=None, max_iter=100,\n",
              "                   multi_class='auto', n_jobs=None, penalty='l2',\n",
              "                   random_state=None, solver='lbfgs', tol=0.0001, verbose=0,\n",
              "                   warm_start=False)"
            ]
          },
          "metadata": {
            "tags": []
          },
          "execution_count": 92
        }
      ]
    },
    {
      "cell_type": "code",
      "metadata": {
        "id": "OiZgIDgNS2jY"
      },
      "source": [
        "# Using our model to make a prediction\n",
        "\n",
        "y_pred = LogReg.predict(X_test)"
      ],
      "execution_count": 93,
      "outputs": []
    },
    {
      "cell_type": "code",
      "metadata": {
        "id": "-HoMZBFYUdYJ",
        "outputId": "3e40229c-bde1-4a64-fb02-f912b1b172de",
        "colab": {
          "base_uri": "https://localhost:8080/"
        }
      },
      "source": [
        "# Evalauting the model\n",
        "\n",
        "\n",
        "print(accuracy_score(y_test, y_pred))"
      ],
      "execution_count": 94,
      "outputs": [
        {
          "output_type": "stream",
          "text": [
            "0.6272942569567792\n"
          ],
          "name": "stdout"
        }
      ]
    },
    {
      "cell_type": "markdown",
      "metadata": {
        "id": "IVj4m-lJZlHt"
      },
      "source": [
        "The model has  an accuracy  score of 62.72%"
      ]
    },
    {
      "cell_type": "markdown",
      "metadata": {
        "id": "4LFaXRjUMun5"
      },
      "source": [
        "# 9 Cross-Validation "
      ]
    },
    {
      "cell_type": "code",
      "metadata": {
        "id": "A9GHmqX8MtaF",
        "outputId": "7906947f-45f3-449b-cc55-02c44aab2198",
        "colab": {
          "base_uri": "https://localhost:8080/"
        }
      },
      "source": [
        "# Using KFolds\n",
        "\n",
        "# Splitting our dataset\n",
        "# independet variables as X\n",
        "# dependent variable as y\n",
        "\n",
        "X = Fiifa.drop(['status'], axis = 1).values\n",
        "y = Fiifa.status.values\n",
        "\n",
        "# specifying the number of folds\n",
        "folds = KFold(n_splits = 10)\n",
        "\n",
        "\n",
        "# We now create and assess 10 models based on the folds we created.\n",
        "\n",
        "RMSES = [] # An array of RMSEs to keep track of the RSME of each model\n",
        "count = 1   # starting point # helps to keep track of the model number in training\n",
        "for train_index, test_index in folds.split(X):\n",
        "\n",
        "  \n",
        "  # Setting up the train and test based on the split determined by KFold\n",
        "  # With 10 folds we split our data into training and test sets\n",
        "  \n",
        "  X_train, X_test = X[train_index], X[test_index]\n",
        "  y_train, y_test = y[train_index], y[test_index]\n",
        "  \n",
        "  # fitting a Logistic regression model\n",
        "  LogReg = LogisticRegression()  \n",
        "  LogReg.fit(X_train, y_train)\n",
        "  \n",
        "  # Assess the accuracy of the model\n",
        "  y_pred = LogReg.predict(X_test)\n",
        "  \n",
        "  # Calculating the RMSES of each model\n",
        "  # Appending each RMSE into the list earlier created\n",
        "  rmse_value =  np.sqrt(metrics.mean_squared_error(y_test, y_pred))\n",
        "  RMSES.append(rmse_value)\n",
        "  \n",
        "  \n",
        "  # printing each model RMSE\n",
        "  print('Model ' + str(count) + ' Root Mean Squared Error:',rmse_value)\n",
        "  count = count + 1\n",
        "  \n",
        " "
      ],
      "execution_count": 95,
      "outputs": [
        {
          "output_type": "stream",
          "text": [
            "/usr/local/lib/python3.6/dist-packages/sklearn/linear_model/_logistic.py:940: ConvergenceWarning: lbfgs failed to converge (status=1):\n",
            "STOP: TOTAL NO. of ITERATIONS REACHED LIMIT.\n",
            "\n",
            "Increase the number of iterations (max_iter) or scale the data as shown in:\n",
            "    https://scikit-learn.org/stable/modules/preprocessing.html\n",
            "Please also refer to the documentation for alternative solver options:\n",
            "    https://scikit-learn.org/stable/modules/linear_model.html#logistic-regression\n",
            "  extra_warning_msg=_LOGISTIC_SOLVER_CONVERGENCE_MSG)\n"
          ],
          "name": "stderr"
        },
        {
          "output_type": "stream",
          "text": [
            "Model 1 Root Mean Squared Error: 0.8712227104760641\n"
          ],
          "name": "stdout"
        },
        {
          "output_type": "stream",
          "text": [
            "/usr/local/lib/python3.6/dist-packages/sklearn/linear_model/_logistic.py:940: ConvergenceWarning: lbfgs failed to converge (status=1):\n",
            "STOP: TOTAL NO. of ITERATIONS REACHED LIMIT.\n",
            "\n",
            "Increase the number of iterations (max_iter) or scale the data as shown in:\n",
            "    https://scikit-learn.org/stable/modules/preprocessing.html\n",
            "Please also refer to the documentation for alternative solver options:\n",
            "    https://scikit-learn.org/stable/modules/linear_model.html#logistic-regression\n",
            "  extra_warning_msg=_LOGISTIC_SOLVER_CONVERGENCE_MSG)\n"
          ],
          "name": "stderr"
        },
        {
          "output_type": "stream",
          "text": [
            "Model 2 Root Mean Squared Error: 0.9239911369042241\n"
          ],
          "name": "stdout"
        },
        {
          "output_type": "stream",
          "text": [
            "/usr/local/lib/python3.6/dist-packages/sklearn/linear_model/_logistic.py:940: ConvergenceWarning: lbfgs failed to converge (status=1):\n",
            "STOP: TOTAL NO. of ITERATIONS REACHED LIMIT.\n",
            "\n",
            "Increase the number of iterations (max_iter) or scale the data as shown in:\n",
            "    https://scikit-learn.org/stable/modules/preprocessing.html\n",
            "Please also refer to the documentation for alternative solver options:\n",
            "    https://scikit-learn.org/stable/modules/linear_model.html#logistic-regression\n",
            "  extra_warning_msg=_LOGISTIC_SOLVER_CONVERGENCE_MSG)\n"
          ],
          "name": "stderr"
        },
        {
          "output_type": "stream",
          "text": [
            "Model 3 Root Mean Squared Error: 0.8983242078864608\n"
          ],
          "name": "stdout"
        },
        {
          "output_type": "stream",
          "text": [
            "/usr/local/lib/python3.6/dist-packages/sklearn/linear_model/_logistic.py:940: ConvergenceWarning: lbfgs failed to converge (status=1):\n",
            "STOP: TOTAL NO. of ITERATIONS REACHED LIMIT.\n",
            "\n",
            "Increase the number of iterations (max_iter) or scale the data as shown in:\n",
            "    https://scikit-learn.org/stable/modules/preprocessing.html\n",
            "Please also refer to the documentation for alternative solver options:\n",
            "    https://scikit-learn.org/stable/modules/linear_model.html#logistic-regression\n",
            "  extra_warning_msg=_LOGISTIC_SOLVER_CONVERGENCE_MSG)\n"
          ],
          "name": "stderr"
        },
        {
          "output_type": "stream",
          "text": [
            "Model 4 Root Mean Squared Error: 0.904890992718667\n"
          ],
          "name": "stdout"
        },
        {
          "output_type": "stream",
          "text": [
            "/usr/local/lib/python3.6/dist-packages/sklearn/linear_model/_logistic.py:940: ConvergenceWarning: lbfgs failed to converge (status=1):\n",
            "STOP: TOTAL NO. of ITERATIONS REACHED LIMIT.\n",
            "\n",
            "Increase the number of iterations (max_iter) or scale the data as shown in:\n",
            "    https://scikit-learn.org/stable/modules/preprocessing.html\n",
            "Please also refer to the documentation for alternative solver options:\n",
            "    https://scikit-learn.org/stable/modules/linear_model.html#logistic-regression\n",
            "  extra_warning_msg=_LOGISTIC_SOLVER_CONVERGENCE_MSG)\n"
          ],
          "name": "stderr"
        },
        {
          "output_type": "stream",
          "text": [
            "Model 5 Root Mean Squared Error: 0.8705428643245582\n"
          ],
          "name": "stdout"
        },
        {
          "output_type": "stream",
          "text": [
            "/usr/local/lib/python3.6/dist-packages/sklearn/linear_model/_logistic.py:940: ConvergenceWarning: lbfgs failed to converge (status=1):\n",
            "STOP: TOTAL NO. of ITERATIONS REACHED LIMIT.\n",
            "\n",
            "Increase the number of iterations (max_iter) or scale the data as shown in:\n",
            "    https://scikit-learn.org/stable/modules/preprocessing.html\n",
            "Please also refer to the documentation for alternative solver options:\n",
            "    https://scikit-learn.org/stable/modules/linear_model.html#logistic-regression\n",
            "  extra_warning_msg=_LOGISTIC_SOLVER_CONVERGENCE_MSG)\n"
          ],
          "name": "stderr"
        },
        {
          "output_type": "stream",
          "text": [
            "Model 6 Root Mean Squared Error: 0.8833704763351714\n"
          ],
          "name": "stdout"
        },
        {
          "output_type": "stream",
          "text": [
            "/usr/local/lib/python3.6/dist-packages/sklearn/linear_model/_logistic.py:940: ConvergenceWarning: lbfgs failed to converge (status=1):\n",
            "STOP: TOTAL NO. of ITERATIONS REACHED LIMIT.\n",
            "\n",
            "Increase the number of iterations (max_iter) or scale the data as shown in:\n",
            "    https://scikit-learn.org/stable/modules/preprocessing.html\n",
            "Please also refer to the documentation for alternative solver options:\n",
            "    https://scikit-learn.org/stable/modules/linear_model.html#logistic-regression\n",
            "  extra_warning_msg=_LOGISTIC_SOLVER_CONVERGENCE_MSG)\n"
          ],
          "name": "stderr"
        },
        {
          "output_type": "stream",
          "text": [
            "Model 7 Root Mean Squared Error: 0.8877163175864107\n"
          ],
          "name": "stdout"
        },
        {
          "output_type": "stream",
          "text": [
            "/usr/local/lib/python3.6/dist-packages/sklearn/linear_model/_logistic.py:940: ConvergenceWarning: lbfgs failed to converge (status=1):\n",
            "STOP: TOTAL NO. of ITERATIONS REACHED LIMIT.\n",
            "\n",
            "Increase the number of iterations (max_iter) or scale the data as shown in:\n",
            "    https://scikit-learn.org/stable/modules/preprocessing.html\n",
            "Please also refer to the documentation for alternative solver options:\n",
            "    https://scikit-learn.org/stable/modules/linear_model.html#logistic-regression\n",
            "  extra_warning_msg=_LOGISTIC_SOLVER_CONVERGENCE_MSG)\n"
          ],
          "name": "stderr"
        },
        {
          "output_type": "stream",
          "text": [
            "Model 8 Root Mean Squared Error: 0.9420761120147845\n"
          ],
          "name": "stdout"
        },
        {
          "output_type": "stream",
          "text": [
            "/usr/local/lib/python3.6/dist-packages/sklearn/linear_model/_logistic.py:940: ConvergenceWarning: lbfgs failed to converge (status=1):\n",
            "STOP: TOTAL NO. of ITERATIONS REACHED LIMIT.\n",
            "\n",
            "Increase the number of iterations (max_iter) or scale the data as shown in:\n",
            "    https://scikit-learn.org/stable/modules/preprocessing.html\n",
            "Please also refer to the documentation for alternative solver options:\n",
            "    https://scikit-learn.org/stable/modules/linear_model.html#logistic-regression\n",
            "  extra_warning_msg=_LOGISTIC_SOLVER_CONVERGENCE_MSG)\n"
          ],
          "name": "stderr"
        },
        {
          "output_type": "stream",
          "text": [
            "Model 9 Root Mean Squared Error: 0.9220668214446279\n",
            "Model 10 Root Mean Squared Error: 0.927144625394606\n"
          ],
          "name": "stdout"
        },
        {
          "output_type": "stream",
          "text": [
            "/usr/local/lib/python3.6/dist-packages/sklearn/linear_model/_logistic.py:940: ConvergenceWarning: lbfgs failed to converge (status=1):\n",
            "STOP: TOTAL NO. of ITERATIONS REACHED LIMIT.\n",
            "\n",
            "Increase the number of iterations (max_iter) or scale the data as shown in:\n",
            "    https://scikit-learn.org/stable/modules/preprocessing.html\n",
            "Please also refer to the documentation for alternative solver options:\n",
            "    https://scikit-learn.org/stable/modules/linear_model.html#logistic-regression\n",
            "  extra_warning_msg=_LOGISTIC_SOLVER_CONVERGENCE_MSG)\n"
          ],
          "name": "stderr"
        }
      ]
    },
    {
      "cell_type": "code",
      "metadata": {
        "id": "2vvJlA5kd5sB",
        "outputId": "a7036bff-f6d2-4de2-c373-c00a8ecf91ba",
        "colab": {
          "base_uri": "https://localhost:8080/"
        }
      },
      "source": [
        "# Printing the mean  of the RMSES in all the 10 models\n",
        "\n",
        "print(np.mean(RMSES))\n",
        "\n",
        " "
      ],
      "execution_count": 96,
      "outputs": [
        {
          "output_type": "stream",
          "text": [
            "0.9031346265085574\n"
          ],
          "name": "stdout"
        }
      ]
    },
    {
      "cell_type": "code",
      "metadata": {
        "id": "IcEVrQHYOwOY",
        "outputId": "a4d43a2f-2fd1-4361-8ae7-98be1f4edfc3",
        "colab": {
          "base_uri": "https://localhost:8080/",
          "height": 295
        }
      },
      "source": [
        " # Visualizing the 10-folds RMSES using a scatter plot\n",
        "\n",
        "\n",
        "\n",
        "plt.plot(RMSES)\n",
        "plt.ylabel('RMSE value')\n",
        "plt.title(\"RMSE line plot\", color = 'red')\n",
        "plt.xlabel('model ID')\n",
        "plt.show()"
      ],
      "execution_count": 98,
      "outputs": [
        {
          "output_type": "display_data",
          "data": {
            "image/png": "[encoded data removed]",
            "text/plain": [
              "<Figure size 432x288 with 1 Axes>"
            ]
          },
          "metadata": {
            "tags": [],
            "needs_background": "light"
          }
        }
      ]
    },
    {
      "cell_type": "markdown",
      "metadata": {
        "id": "7FZt4x0qA_4U"
      },
      "source": [
        "# 10.Heteroskedisity"
      ]
    },
    {
      "cell_type": "markdown",
      "metadata": {
        "id": "rkGa2u3uBGR_"
      },
      "source": [
        "Heteroscedasticity means unequal scatter. In regression analysis, we talk about heteroscedasticity in the context of the residuals or error term. Specifically, heteroscedasticity is a systematic change in the spread of the residuals over the range of measured values."
      ]
    },
    {
      "cell_type": "code",
      "metadata": {
        "id": "HS3dpNGaiUiu",
        "outputId": "2fd36dc5-5985-4cde-9b43-0f81f3f276ec",
        "colab": {
          "base_uri": "https://localhost:8080/"
        }
      },
      "source": [
        "# First: splitting our dataset \n",
        "# Into the feature set and the target variable\n",
        "\n",
        "X = Fiifa.drop(['status'], axis = 1)\n",
        "y = Fiifa.status\n",
        "\n",
        "# Split the dataset into train and test sets\n",
        "\n",
        "X_train, X_test, y_train, y_test = train_test_split(X,y, test_size = 0.2, random_state=0)\n",
        "\n",
        "# Fitting a Logistic model\n",
        "\n",
        "LogReg = LogisticRegression()\n",
        "LogReg.fit(X_train, y_train)\n",
        "\n",
        "# Using our model to make a prediction\n",
        "\n",
        "y_pred = LogReg.predict(X_test)\n",
        "\n",
        "# We now create the residual by subtracting the test value from the predicted \n",
        "# value for each row in our dataset\n",
        "\n",
        "residuals = np.subtract(y_pred, y_test)\n",
        "\n",
        "# Creating a summary description of the residuals:\n",
        "\n",
        "pd.DataFrame(residuals).describe()\n",
        "\n",
        "residuals.mean()"
      ],
      "execution_count": 99,
      "outputs": [
        {
          "output_type": "stream",
          "text": [
            "/usr/local/lib/python3.6/dist-packages/sklearn/linear_model/_logistic.py:940: ConvergenceWarning: lbfgs failed to converge (status=1):\n",
            "STOP: TOTAL NO. of ITERATIONS REACHED LIMIT.\n",
            "\n",
            "Increase the number of iterations (max_iter) or scale the data as shown in:\n",
            "    https://scikit-learn.org/stable/modules/preprocessing.html\n",
            "Please also refer to the documentation for alternative solver options:\n",
            "    https://scikit-learn.org/stable/modules/linear_model.html#logistic-regression\n",
            "  extra_warning_msg=_LOGISTIC_SOLVER_CONVERGENCE_MSG)\n"
          ],
          "name": "stderr"
        },
        {
          "output_type": "execute_result",
          "data": {
            "text/plain": [
              "0.2975133214920071"
            ]
          },
          "metadata": {
            "tags": []
          },
          "execution_count": 99
        }
      ]
    },
    {
      "cell_type": "markdown",
      "metadata": {
        "id": "Hjm9yJepPe20"
      },
      "source": [
        "## 10..1 Residual Plots"
      ]
    },
    {
      "cell_type": "code",
      "metadata": {
        "id": "suZljruKPd0F",
        "outputId": "2b41efa4-d12f-4cca-824a-348e7e5a4f3b",
        "colab": {
          "base_uri": "https://localhost:8080/",
          "height": 279
        }
      },
      "source": [
        "# Visualizing the residuals using a scatter plot \n",
        "\n",
        "\n",
        "plt.scatter(y_pred, residuals, color='black')\n",
        "plt.ylabel('residual')\n",
        "plt.xlabel('predicted values')\n",
        "plt.axhline(y= residuals.mean(), color='red', linewidth=1)\n",
        "plt.show()"
      ],
      "execution_count": 100,
      "outputs": [
        {
          "output_type": "display_data",
          "data": {
            "image/png": "[encoded data removed]",
            "text/plain": [
              "<Figure size 432x288 with 1 Axes>"
            ]
          },
          "metadata": {
            "tags": [],
            "needs_background": "light"
          }
        }
      ]
    },
    {
      "cell_type": "markdown",
      "metadata": {
        "id": "Q08my9X1qRfO"
      },
      "source": [
        "Residuals are centered around a mean of appx 0.43\n",
        "…positive values for the residual (on the y-axis) mean the prediction was too low, and negative values mean the prediction was too high; 0 means the guess was exactly correct\n"
      ]
    },
    {
      "cell_type": "markdown",
      "metadata": {
        "id": "ikzQTH1rPptl"
      },
      "source": [
        "## 10.2 Barlett's test"
      ]
    },
    {
      "cell_type": "code",
      "metadata": {
        "id": "rKy_8vbUPdyA",
        "outputId": "022d8e56-f88c-4346-89b0-4cc7830be7c1",
        "colab": {
          "base_uri": "https://localhost:8080/"
        }
      },
      "source": [
        "# Carrying out Barlett's test \n",
        "# It is a more thorough heteroskedasticity test.\n",
        "\n",
        "test_result, p_value = sp.stats.bartlett(y_pred, residuals)\n",
        "\n",
        "# To interpret the results we must also compute a critical value of the chi squared distribution\n",
        "degree_of_freedom = len(y_pred)-1\n",
        "probability = 1 - p_value\n",
        "\n",
        "\n",
        "critical_value = sp.stats.chi2.ppf(probability, degree_of_freedom)\n",
        "print(p_value)\n",
        "\n",
        "# If the test_result is greater than the critical value, then we reject our null\n",
        "# hypothesis. This would mean that there are patterns to the variance of the data\n",
        "\n",
        "# Otherwise, we can identify no patterns, and we accept the null hypothesis that \n",
        "# the variance is homogeneous across our data\n",
        "\n",
        "if (test_result > critical_value):\n",
        "  print('the variances are unequal, and the model should be reassessed')\n",
        "else:\n",
        "  print('The variances are Homogeneous!')"
      ],
      "execution_count": 101,
      "outputs": [
        {
          "output_type": "stream",
          "text": [
            "2.156757663300631e-97\n",
            "The variances are Homogeneous!\n"
          ],
          "name": "stdout"
        }
      ]
    }
  ]
}